{
 "cells": [
  {
   "cell_type": "markdown",
   "id": "aa9fb36e",
   "metadata": {},
   "source": [
    "## DS Integrated Project 2:\n",
    "\n",
    "### Project description:\n",
    "\n",
    "Zyfra develops efficiency solutions for heavy industry.\n",
    "* We are going to prepare a prototype of a machine learning model. \n",
    "* The model would predict the amount of gold recovered from gold ore, for that purpose we have data on extraction and purification processes.\n",
    "* The model will help optimize the production and eliminate unprofitable parameters."
   ]
  },
  {
   "cell_type": "markdown",
   "id": "b5031f4c",
   "metadata": {},
   "source": [
    "### Table of contents: \n",
    "\n",
    "* [1. Prepare the data](#1.-Prepare-the-data:)\n",
    "\n",
    "    * [1.1. Open the files and look into the data](#1.1.-Open-the-files-and-look-into-the-data.)\n",
    "\n",
    "    * [1.2. Check that recovery is calculated correctly](#1.2.-Check-that-recovery-is-calculated-correctly.)\n",
    "\n",
    "    * [1.3. Analyze the features not available in the test set](#1.3.-Analyze-the-features-not-available-in-the-test-set.)\n",
    "\n",
    "    * [1.4. Data preprocessing](#1.4.-Data-preprocessing.)\n",
    "\n",
    "* [2. Data analysis](#2.-Data-analysis:)\n",
    "\n",
    "    * [2.1. How the concentrations of metals (Au, Ag, Pb) change depending on the purification stage.](#2.1.-How-the-concentrations-of-metals-(Au,-Ag,-Pb)-change-depending-on-the-purification-stage.)\n",
    "\n",
    "    * [2.2. Comparison between the feed particle size distributions in the training set and in the test set](#2.2.-Comparison-between-the-feed-particle-size-distributions-in-the-training-set-and-in-the-test-set.)\n",
    "    \n",
    "    * [2.3. Comparison between the total concentrations of all substances at different stages: raw feed, rougher concentrate, and final concentrate.](#2.3.-Comparison-between-the-total-concentrations-of-all-substances-at-different-stages-raw-feed,-rougher-concentrate,-and-final-concentrate.)\n",
    "    \n",
    "* [3. Develop and train a model](#3.-Develop-and-train-a-model:)\n",
    "    \n",
    "    * [3.1. Calculation of the final sMAPE value.](#3.1.-Calculation-of--final--the-sMAPE-value.) \n",
    "    \n",
    "    * [3.2. Train, evaluation, finding, and testing to find the best model](#3.2.-Train,-evaluation,-finding-,-and-testing-to-find-the-best-model)"
   ]
  },
  {
   "cell_type": "markdown",
   "id": "815fcf79",
   "metadata": {},
   "source": [
    "### 1. Prepare the data:"
   ]
  },
  {
   "cell_type": "code",
   "execution_count": 1,
   "id": "29490172",
   "metadata": {},
   "outputs": [],
   "source": [
    "import pandas as pd\n",
    "import numpy as np\n",
    "from datetime import datetime\n",
    "\n",
    "from sklearn.preprocessing import StandardScaler\n",
    "from sklearn.model_selection import train_test_split\n",
    "\n",
    "import plotly.graph_objects as go\n",
    "import plotly.express as px\n",
    "\n",
    "from plotly.subplots import make_subplots\n",
    "from sklearn.preprocessing import StandardScaler\n",
    "from sklearn.linear_model import LinearRegression \n",
    "from sklearn.ensemble import RandomForestRegressor\n",
    "from sklearn.tree import DecisionTreeRegressor\n",
    "from sklearn.dummy import DummyRegressor\n",
    "\n",
    "from sklearn.metrics import mean_squared_error\n",
    "from sklearn.metrics import mean_absolute_error\n",
    "\n",
    "from sklearn.model_selection import StratifiedKFold\n",
    "\n",
    "from sklearn.model_selection import cross_val_score\n",
    "from sklearn.metrics import make_scorer"
   ]
  },
  {
   "cell_type": "markdown",
   "id": "8195855b",
   "metadata": {},
   "source": [
    "#### 1.1. Open the files and look into the data."
   ]
  },
  {
   "cell_type": "code",
   "execution_count": 2,
   "id": "74f5ff8b",
   "metadata": {
    "scrolled": false
   },
   "outputs": [],
   "source": [
    "try:\n",
    "    gold_train = pd.read_csv('gold_recovery_train.csv')\n",
    "        \n",
    "except:\n",
    "    gold_train = pd.read_csv('/datasets/gold_recovery_train.csv')\n",
    "    \n",
    "try:\n",
    "    gold_test = pd.read_csv('gold_recovery_test.csv')\n",
    "    \n",
    "except:\n",
    "    gold_test = pd.read_csv('/datasets/gold_recovery_test.csv')\n",
    "\n",
    "try:\n",
    "    gold_full = pd.read_csv('gold_recovery_full.csv')\n",
    "    \n",
    "except:\n",
    "    gold_full = pd.read_csv('/datasets/gold_recovery_full.csv')"
   ]
  },
  {
   "cell_type": "code",
   "execution_count": 3,
   "id": "896644d5",
   "metadata": {},
   "outputs": [
    {
     "data": {
      "text/html": [
       "<div>\n",
       "<style scoped>\n",
       "    .dataframe tbody tr th:only-of-type {\n",
       "        vertical-align: middle;\n",
       "    }\n",
       "\n",
       "    .dataframe tbody tr th {\n",
       "        vertical-align: top;\n",
       "    }\n",
       "\n",
       "    .dataframe thead th {\n",
       "        text-align: right;\n",
       "    }\n",
       "</style>\n",
       "<table border=\"1\" class=\"dataframe\">\n",
       "  <thead>\n",
       "    <tr style=\"text-align: right;\">\n",
       "      <th></th>\n",
       "      <th>date</th>\n",
       "      <th>final.output.concentrate_ag</th>\n",
       "      <th>final.output.concentrate_pb</th>\n",
       "      <th>final.output.concentrate_sol</th>\n",
       "      <th>final.output.concentrate_au</th>\n",
       "      <th>final.output.recovery</th>\n",
       "      <th>final.output.tail_ag</th>\n",
       "      <th>final.output.tail_pb</th>\n",
       "      <th>final.output.tail_sol</th>\n",
       "      <th>final.output.tail_au</th>\n",
       "      <th>...</th>\n",
       "      <th>secondary_cleaner.state.floatbank4_a_air</th>\n",
       "      <th>secondary_cleaner.state.floatbank4_a_level</th>\n",
       "      <th>secondary_cleaner.state.floatbank4_b_air</th>\n",
       "      <th>secondary_cleaner.state.floatbank4_b_level</th>\n",
       "      <th>secondary_cleaner.state.floatbank5_a_air</th>\n",
       "      <th>secondary_cleaner.state.floatbank5_a_level</th>\n",
       "      <th>secondary_cleaner.state.floatbank5_b_air</th>\n",
       "      <th>secondary_cleaner.state.floatbank5_b_level</th>\n",
       "      <th>secondary_cleaner.state.floatbank6_a_air</th>\n",
       "      <th>secondary_cleaner.state.floatbank6_a_level</th>\n",
       "    </tr>\n",
       "  </thead>\n",
       "  <tbody>\n",
       "    <tr>\n",
       "      <th>0</th>\n",
       "      <td>2016-01-15 00:00:00</td>\n",
       "      <td>6.055403</td>\n",
       "      <td>9.889648</td>\n",
       "      <td>5.507324</td>\n",
       "      <td>42.192020</td>\n",
       "      <td>70.541216</td>\n",
       "      <td>10.411962</td>\n",
       "      <td>0.895447</td>\n",
       "      <td>16.904297</td>\n",
       "      <td>2.143149</td>\n",
       "      <td>...</td>\n",
       "      <td>14.016835</td>\n",
       "      <td>-502.488007</td>\n",
       "      <td>12.099931</td>\n",
       "      <td>-504.715942</td>\n",
       "      <td>9.925633</td>\n",
       "      <td>-498.310211</td>\n",
       "      <td>8.079666</td>\n",
       "      <td>-500.470978</td>\n",
       "      <td>14.151341</td>\n",
       "      <td>-605.841980</td>\n",
       "    </tr>\n",
       "    <tr>\n",
       "      <th>1</th>\n",
       "      <td>2016-01-15 01:00:00</td>\n",
       "      <td>6.029369</td>\n",
       "      <td>9.968944</td>\n",
       "      <td>5.257781</td>\n",
       "      <td>42.701629</td>\n",
       "      <td>69.266198</td>\n",
       "      <td>10.462676</td>\n",
       "      <td>0.927452</td>\n",
       "      <td>16.634514</td>\n",
       "      <td>2.224930</td>\n",
       "      <td>...</td>\n",
       "      <td>13.992281</td>\n",
       "      <td>-505.503262</td>\n",
       "      <td>11.950531</td>\n",
       "      <td>-501.331529</td>\n",
       "      <td>10.039245</td>\n",
       "      <td>-500.169983</td>\n",
       "      <td>7.984757</td>\n",
       "      <td>-500.582168</td>\n",
       "      <td>13.998353</td>\n",
       "      <td>-599.787184</td>\n",
       "    </tr>\n",
       "    <tr>\n",
       "      <th>2</th>\n",
       "      <td>2016-01-15 02:00:00</td>\n",
       "      <td>6.055926</td>\n",
       "      <td>10.213995</td>\n",
       "      <td>5.383759</td>\n",
       "      <td>42.657501</td>\n",
       "      <td>68.116445</td>\n",
       "      <td>10.507046</td>\n",
       "      <td>0.953716</td>\n",
       "      <td>16.208849</td>\n",
       "      <td>2.257889</td>\n",
       "      <td>...</td>\n",
       "      <td>14.015015</td>\n",
       "      <td>-502.520901</td>\n",
       "      <td>11.912783</td>\n",
       "      <td>-501.133383</td>\n",
       "      <td>10.070913</td>\n",
       "      <td>-500.129135</td>\n",
       "      <td>8.013877</td>\n",
       "      <td>-500.517572</td>\n",
       "      <td>14.028663</td>\n",
       "      <td>-601.427363</td>\n",
       "    </tr>\n",
       "    <tr>\n",
       "      <th>3</th>\n",
       "      <td>2016-01-15 03:00:00</td>\n",
       "      <td>6.047977</td>\n",
       "      <td>9.977019</td>\n",
       "      <td>4.858634</td>\n",
       "      <td>42.689819</td>\n",
       "      <td>68.347543</td>\n",
       "      <td>10.422762</td>\n",
       "      <td>0.883763</td>\n",
       "      <td>16.532835</td>\n",
       "      <td>2.146849</td>\n",
       "      <td>...</td>\n",
       "      <td>14.036510</td>\n",
       "      <td>-500.857308</td>\n",
       "      <td>11.999550</td>\n",
       "      <td>-501.193686</td>\n",
       "      <td>9.970366</td>\n",
       "      <td>-499.201640</td>\n",
       "      <td>7.977324</td>\n",
       "      <td>-500.255908</td>\n",
       "      <td>14.005551</td>\n",
       "      <td>-599.996129</td>\n",
       "    </tr>\n",
       "  </tbody>\n",
       "</table>\n",
       "<p>4 rows × 87 columns</p>\n",
       "</div>"
      ],
      "text/plain": [
       "                  date  final.output.concentrate_ag  \\\n",
       "0  2016-01-15 00:00:00                     6.055403   \n",
       "1  2016-01-15 01:00:00                     6.029369   \n",
       "2  2016-01-15 02:00:00                     6.055926   \n",
       "3  2016-01-15 03:00:00                     6.047977   \n",
       "\n",
       "   final.output.concentrate_pb  final.output.concentrate_sol  \\\n",
       "0                     9.889648                      5.507324   \n",
       "1                     9.968944                      5.257781   \n",
       "2                    10.213995                      5.383759   \n",
       "3                     9.977019                      4.858634   \n",
       "\n",
       "   final.output.concentrate_au  final.output.recovery  final.output.tail_ag  \\\n",
       "0                    42.192020              70.541216             10.411962   \n",
       "1                    42.701629              69.266198             10.462676   \n",
       "2                    42.657501              68.116445             10.507046   \n",
       "3                    42.689819              68.347543             10.422762   \n",
       "\n",
       "   final.output.tail_pb  final.output.tail_sol  final.output.tail_au  ...  \\\n",
       "0              0.895447              16.904297              2.143149  ...   \n",
       "1              0.927452              16.634514              2.224930  ...   \n",
       "2              0.953716              16.208849              2.257889  ...   \n",
       "3              0.883763              16.532835              2.146849  ...   \n",
       "\n",
       "   secondary_cleaner.state.floatbank4_a_air  \\\n",
       "0                                 14.016835   \n",
       "1                                 13.992281   \n",
       "2                                 14.015015   \n",
       "3                                 14.036510   \n",
       "\n",
       "   secondary_cleaner.state.floatbank4_a_level  \\\n",
       "0                                 -502.488007   \n",
       "1                                 -505.503262   \n",
       "2                                 -502.520901   \n",
       "3                                 -500.857308   \n",
       "\n",
       "   secondary_cleaner.state.floatbank4_b_air  \\\n",
       "0                                 12.099931   \n",
       "1                                 11.950531   \n",
       "2                                 11.912783   \n",
       "3                                 11.999550   \n",
       "\n",
       "   secondary_cleaner.state.floatbank4_b_level  \\\n",
       "0                                 -504.715942   \n",
       "1                                 -501.331529   \n",
       "2                                 -501.133383   \n",
       "3                                 -501.193686   \n",
       "\n",
       "   secondary_cleaner.state.floatbank5_a_air  \\\n",
       "0                                  9.925633   \n",
       "1                                 10.039245   \n",
       "2                                 10.070913   \n",
       "3                                  9.970366   \n",
       "\n",
       "   secondary_cleaner.state.floatbank5_a_level  \\\n",
       "0                                 -498.310211   \n",
       "1                                 -500.169983   \n",
       "2                                 -500.129135   \n",
       "3                                 -499.201640   \n",
       "\n",
       "   secondary_cleaner.state.floatbank5_b_air  \\\n",
       "0                                  8.079666   \n",
       "1                                  7.984757   \n",
       "2                                  8.013877   \n",
       "3                                  7.977324   \n",
       "\n",
       "   secondary_cleaner.state.floatbank5_b_level  \\\n",
       "0                                 -500.470978   \n",
       "1                                 -500.582168   \n",
       "2                                 -500.517572   \n",
       "3                                 -500.255908   \n",
       "\n",
       "   secondary_cleaner.state.floatbank6_a_air  \\\n",
       "0                                 14.151341   \n",
       "1                                 13.998353   \n",
       "2                                 14.028663   \n",
       "3                                 14.005551   \n",
       "\n",
       "   secondary_cleaner.state.floatbank6_a_level  \n",
       "0                                 -605.841980  \n",
       "1                                 -599.787184  \n",
       "2                                 -601.427363  \n",
       "3                                 -599.996129  \n",
       "\n",
       "[4 rows x 87 columns]"
      ]
     },
     "execution_count": 3,
     "metadata": {},
     "output_type": "execute_result"
    }
   ],
   "source": [
    "gold_train.head(4)"
   ]
  },
  {
   "cell_type": "code",
   "execution_count": 4,
   "id": "a65cf06d",
   "metadata": {},
   "outputs": [
    {
     "name": "stdout",
     "output_type": "stream",
     "text": [
      "<class 'pandas.core.frame.DataFrame'>\n",
      "RangeIndex: 16860 entries, 0 to 16859\n",
      "Data columns (total 87 columns):\n",
      " #   Column                                              Non-Null Count  Dtype  \n",
      "---  ------                                              --------------  -----  \n",
      " 0   date                                                16860 non-null  object \n",
      " 1   final.output.concentrate_ag                         16788 non-null  float64\n",
      " 2   final.output.concentrate_pb                         16788 non-null  float64\n",
      " 3   final.output.concentrate_sol                        16490 non-null  float64\n",
      " 4   final.output.concentrate_au                         16789 non-null  float64\n",
      " 5   final.output.recovery                               15339 non-null  float64\n",
      " 6   final.output.tail_ag                                16794 non-null  float64\n",
      " 7   final.output.tail_pb                                16677 non-null  float64\n",
      " 8   final.output.tail_sol                               16715 non-null  float64\n",
      " 9   final.output.tail_au                                16794 non-null  float64\n",
      " 10  primary_cleaner.input.sulfate                       15553 non-null  float64\n",
      " 11  primary_cleaner.input.depressant                    15598 non-null  float64\n",
      " 12  primary_cleaner.input.feed_size                     16860 non-null  float64\n",
      " 13  primary_cleaner.input.xanthate                      15875 non-null  float64\n",
      " 14  primary_cleaner.output.concentrate_ag               16778 non-null  float64\n",
      " 15  primary_cleaner.output.concentrate_pb               16502 non-null  float64\n",
      " 16  primary_cleaner.output.concentrate_sol              16224 non-null  float64\n",
      " 17  primary_cleaner.output.concentrate_au               16778 non-null  float64\n",
      " 18  primary_cleaner.output.tail_ag                      16777 non-null  float64\n",
      " 19  primary_cleaner.output.tail_pb                      16761 non-null  float64\n",
      " 20  primary_cleaner.output.tail_sol                     16579 non-null  float64\n",
      " 21  primary_cleaner.output.tail_au                      16777 non-null  float64\n",
      " 22  primary_cleaner.state.floatbank8_a_air              16820 non-null  float64\n",
      " 23  primary_cleaner.state.floatbank8_a_level            16827 non-null  float64\n",
      " 24  primary_cleaner.state.floatbank8_b_air              16820 non-null  float64\n",
      " 25  primary_cleaner.state.floatbank8_b_level            16833 non-null  float64\n",
      " 26  primary_cleaner.state.floatbank8_c_air              16822 non-null  float64\n",
      " 27  primary_cleaner.state.floatbank8_c_level            16833 non-null  float64\n",
      " 28  primary_cleaner.state.floatbank8_d_air              16821 non-null  float64\n",
      " 29  primary_cleaner.state.floatbank8_d_level            16833 non-null  float64\n",
      " 30  rougher.calculation.sulfate_to_au_concentrate       16833 non-null  float64\n",
      " 31  rougher.calculation.floatbank10_sulfate_to_au_feed  16833 non-null  float64\n",
      " 32  rougher.calculation.floatbank11_sulfate_to_au_feed  16833 non-null  float64\n",
      " 33  rougher.calculation.au_pb_ratio                     15618 non-null  float64\n",
      " 34  rougher.input.feed_ag                               16778 non-null  float64\n",
      " 35  rougher.input.feed_pb                               16632 non-null  float64\n",
      " 36  rougher.input.feed_rate                             16347 non-null  float64\n",
      " 37  rougher.input.feed_size                             16443 non-null  float64\n",
      " 38  rougher.input.feed_sol                              16568 non-null  float64\n",
      " 39  rougher.input.feed_au                               16777 non-null  float64\n",
      " 40  rougher.input.floatbank10_sulfate                   15816 non-null  float64\n",
      " 41  rougher.input.floatbank10_xanthate                  16514 non-null  float64\n",
      " 42  rougher.input.floatbank11_sulfate                   16237 non-null  float64\n",
      " 43  rougher.input.floatbank11_xanthate                  14956 non-null  float64\n",
      " 44  rougher.output.concentrate_ag                       16778 non-null  float64\n",
      " 45  rougher.output.concentrate_pb                       16778 non-null  float64\n",
      " 46  rougher.output.concentrate_sol                      16698 non-null  float64\n",
      " 47  rougher.output.concentrate_au                       16778 non-null  float64\n",
      " 48  rougher.output.recovery                             14287 non-null  float64\n",
      " 49  rougher.output.tail_ag                              14610 non-null  float64\n",
      " 50  rougher.output.tail_pb                              16778 non-null  float64\n",
      " 51  rougher.output.tail_sol                             14611 non-null  float64\n",
      " 52  rougher.output.tail_au                              14611 non-null  float64\n",
      " 53  rougher.state.floatbank10_a_air                     16807 non-null  float64\n",
      " 54  rougher.state.floatbank10_a_level                   16807 non-null  float64\n",
      " 55  rougher.state.floatbank10_b_air                     16807 non-null  float64\n",
      " 56  rougher.state.floatbank10_b_level                   16807 non-null  float64\n",
      " 57  rougher.state.floatbank10_c_air                     16807 non-null  float64\n",
      " 58  rougher.state.floatbank10_c_level                   16814 non-null  float64\n",
      " 59  rougher.state.floatbank10_d_air                     16802 non-null  float64\n",
      " 60  rougher.state.floatbank10_d_level                   16809 non-null  float64\n",
      " 61  rougher.state.floatbank10_e_air                     16257 non-null  float64\n",
      " 62  rougher.state.floatbank10_e_level                   16809 non-null  float64\n",
      " 63  rougher.state.floatbank10_f_air                     16802 non-null  float64\n",
      " 64  rougher.state.floatbank10_f_level                   16802 non-null  float64\n",
      " 65  secondary_cleaner.output.tail_ag                    16776 non-null  float64\n",
      " 66  secondary_cleaner.output.tail_pb                    16764 non-null  float64\n",
      " 67  secondary_cleaner.output.tail_sol                   14874 non-null  float64\n",
      " 68  secondary_cleaner.output.tail_au                    16778 non-null  float64\n",
      " 69  secondary_cleaner.state.floatbank2_a_air            16497 non-null  float64\n",
      " 70  secondary_cleaner.state.floatbank2_a_level          16751 non-null  float64\n",
      " 71  secondary_cleaner.state.floatbank2_b_air            16705 non-null  float64\n",
      " 72  secondary_cleaner.state.floatbank2_b_level          16748 non-null  float64\n",
      " 73  secondary_cleaner.state.floatbank3_a_air            16763 non-null  float64\n",
      " 74  secondary_cleaner.state.floatbank3_a_level          16747 non-null  float64\n",
      " 75  secondary_cleaner.state.floatbank3_b_air            16752 non-null  float64\n",
      " 76  secondary_cleaner.state.floatbank3_b_level          16750 non-null  float64\n",
      " 77  secondary_cleaner.state.floatbank4_a_air            16731 non-null  float64\n",
      " 78  secondary_cleaner.state.floatbank4_a_level          16747 non-null  float64\n",
      " 79  secondary_cleaner.state.floatbank4_b_air            16768 non-null  float64\n",
      " 80  secondary_cleaner.state.floatbank4_b_level          16767 non-null  float64\n",
      " 81  secondary_cleaner.state.floatbank5_a_air            16775 non-null  float64\n",
      " 82  secondary_cleaner.state.floatbank5_a_level          16775 non-null  float64\n",
      " 83  secondary_cleaner.state.floatbank5_b_air            16775 non-null  float64\n",
      " 84  secondary_cleaner.state.floatbank5_b_level          16776 non-null  float64\n",
      " 85  secondary_cleaner.state.floatbank6_a_air            16757 non-null  float64\n",
      " 86  secondary_cleaner.state.floatbank6_a_level          16775 non-null  float64\n",
      "dtypes: float64(86), object(1)\n",
      "memory usage: 11.2+ MB\n"
     ]
    }
   ],
   "source": [
    "gold_train.info()"
   ]
  },
  {
   "cell_type": "code",
   "execution_count": 5,
   "id": "05dfa1db",
   "metadata": {},
   "outputs": [
    {
     "data": {
      "text/html": [
       "<div>\n",
       "<style scoped>\n",
       "    .dataframe tbody tr th:only-of-type {\n",
       "        vertical-align: middle;\n",
       "    }\n",
       "\n",
       "    .dataframe tbody tr th {\n",
       "        vertical-align: top;\n",
       "    }\n",
       "\n",
       "    .dataframe thead th {\n",
       "        text-align: right;\n",
       "    }\n",
       "</style>\n",
       "<table border=\"1\" class=\"dataframe\">\n",
       "  <thead>\n",
       "    <tr style=\"text-align: right;\">\n",
       "      <th></th>\n",
       "      <th>date</th>\n",
       "      <th>primary_cleaner.input.sulfate</th>\n",
       "      <th>primary_cleaner.input.depressant</th>\n",
       "      <th>primary_cleaner.input.feed_size</th>\n",
       "      <th>primary_cleaner.input.xanthate</th>\n",
       "      <th>primary_cleaner.state.floatbank8_a_air</th>\n",
       "      <th>primary_cleaner.state.floatbank8_a_level</th>\n",
       "      <th>primary_cleaner.state.floatbank8_b_air</th>\n",
       "      <th>primary_cleaner.state.floatbank8_b_level</th>\n",
       "      <th>primary_cleaner.state.floatbank8_c_air</th>\n",
       "      <th>...</th>\n",
       "      <th>secondary_cleaner.state.floatbank4_a_air</th>\n",
       "      <th>secondary_cleaner.state.floatbank4_a_level</th>\n",
       "      <th>secondary_cleaner.state.floatbank4_b_air</th>\n",
       "      <th>secondary_cleaner.state.floatbank4_b_level</th>\n",
       "      <th>secondary_cleaner.state.floatbank5_a_air</th>\n",
       "      <th>secondary_cleaner.state.floatbank5_a_level</th>\n",
       "      <th>secondary_cleaner.state.floatbank5_b_air</th>\n",
       "      <th>secondary_cleaner.state.floatbank5_b_level</th>\n",
       "      <th>secondary_cleaner.state.floatbank6_a_air</th>\n",
       "      <th>secondary_cleaner.state.floatbank6_a_level</th>\n",
       "    </tr>\n",
       "  </thead>\n",
       "  <tbody>\n",
       "    <tr>\n",
       "      <th>0</th>\n",
       "      <td>2016-09-01 00:59:59</td>\n",
       "      <td>210.800909</td>\n",
       "      <td>14.993118</td>\n",
       "      <td>8.080000</td>\n",
       "      <td>1.005021</td>\n",
       "      <td>1398.981301</td>\n",
       "      <td>-500.225577</td>\n",
       "      <td>1399.144926</td>\n",
       "      <td>-499.919735</td>\n",
       "      <td>1400.102998</td>\n",
       "      <td>...</td>\n",
       "      <td>12.023554</td>\n",
       "      <td>-497.795834</td>\n",
       "      <td>8.016656</td>\n",
       "      <td>-501.289139</td>\n",
       "      <td>7.946562</td>\n",
       "      <td>-432.317850</td>\n",
       "      <td>4.872511</td>\n",
       "      <td>-500.037437</td>\n",
       "      <td>26.705889</td>\n",
       "      <td>-499.709414</td>\n",
       "    </tr>\n",
       "    <tr>\n",
       "      <th>1</th>\n",
       "      <td>2016-09-01 01:59:59</td>\n",
       "      <td>215.392455</td>\n",
       "      <td>14.987471</td>\n",
       "      <td>8.080000</td>\n",
       "      <td>0.990469</td>\n",
       "      <td>1398.777912</td>\n",
       "      <td>-500.057435</td>\n",
       "      <td>1398.055362</td>\n",
       "      <td>-499.778182</td>\n",
       "      <td>1396.151033</td>\n",
       "      <td>...</td>\n",
       "      <td>12.058140</td>\n",
       "      <td>-498.695773</td>\n",
       "      <td>8.130979</td>\n",
       "      <td>-499.634209</td>\n",
       "      <td>7.958270</td>\n",
       "      <td>-525.839648</td>\n",
       "      <td>4.878850</td>\n",
       "      <td>-500.162375</td>\n",
       "      <td>25.019940</td>\n",
       "      <td>-499.819438</td>\n",
       "    </tr>\n",
       "    <tr>\n",
       "      <th>2</th>\n",
       "      <td>2016-09-01 02:59:59</td>\n",
       "      <td>215.259946</td>\n",
       "      <td>12.884934</td>\n",
       "      <td>7.786667</td>\n",
       "      <td>0.996043</td>\n",
       "      <td>1398.493666</td>\n",
       "      <td>-500.868360</td>\n",
       "      <td>1398.860436</td>\n",
       "      <td>-499.764529</td>\n",
       "      <td>1398.075709</td>\n",
       "      <td>...</td>\n",
       "      <td>11.962366</td>\n",
       "      <td>-498.767484</td>\n",
       "      <td>8.096893</td>\n",
       "      <td>-500.827423</td>\n",
       "      <td>8.071056</td>\n",
       "      <td>-500.801673</td>\n",
       "      <td>4.905125</td>\n",
       "      <td>-499.828510</td>\n",
       "      <td>24.994862</td>\n",
       "      <td>-500.622559</td>\n",
       "    </tr>\n",
       "    <tr>\n",
       "      <th>3</th>\n",
       "      <td>2016-09-01 03:59:59</td>\n",
       "      <td>215.336236</td>\n",
       "      <td>12.006805</td>\n",
       "      <td>7.640000</td>\n",
       "      <td>0.863514</td>\n",
       "      <td>1399.618111</td>\n",
       "      <td>-498.863574</td>\n",
       "      <td>1397.440120</td>\n",
       "      <td>-499.211024</td>\n",
       "      <td>1400.129303</td>\n",
       "      <td>...</td>\n",
       "      <td>12.033091</td>\n",
       "      <td>-498.350935</td>\n",
       "      <td>8.074946</td>\n",
       "      <td>-499.474407</td>\n",
       "      <td>7.897085</td>\n",
       "      <td>-500.868509</td>\n",
       "      <td>4.931400</td>\n",
       "      <td>-499.963623</td>\n",
       "      <td>24.948919</td>\n",
       "      <td>-498.709987</td>\n",
       "    </tr>\n",
       "  </tbody>\n",
       "</table>\n",
       "<p>4 rows × 53 columns</p>\n",
       "</div>"
      ],
      "text/plain": [
       "                  date  primary_cleaner.input.sulfate  \\\n",
       "0  2016-09-01 00:59:59                     210.800909   \n",
       "1  2016-09-01 01:59:59                     215.392455   \n",
       "2  2016-09-01 02:59:59                     215.259946   \n",
       "3  2016-09-01 03:59:59                     215.336236   \n",
       "\n",
       "   primary_cleaner.input.depressant  primary_cleaner.input.feed_size  \\\n",
       "0                         14.993118                         8.080000   \n",
       "1                         14.987471                         8.080000   \n",
       "2                         12.884934                         7.786667   \n",
       "3                         12.006805                         7.640000   \n",
       "\n",
       "   primary_cleaner.input.xanthate  primary_cleaner.state.floatbank8_a_air  \\\n",
       "0                        1.005021                             1398.981301   \n",
       "1                        0.990469                             1398.777912   \n",
       "2                        0.996043                             1398.493666   \n",
       "3                        0.863514                             1399.618111   \n",
       "\n",
       "   primary_cleaner.state.floatbank8_a_level  \\\n",
       "0                               -500.225577   \n",
       "1                               -500.057435   \n",
       "2                               -500.868360   \n",
       "3                               -498.863574   \n",
       "\n",
       "   primary_cleaner.state.floatbank8_b_air  \\\n",
       "0                             1399.144926   \n",
       "1                             1398.055362   \n",
       "2                             1398.860436   \n",
       "3                             1397.440120   \n",
       "\n",
       "   primary_cleaner.state.floatbank8_b_level  \\\n",
       "0                               -499.919735   \n",
       "1                               -499.778182   \n",
       "2                               -499.764529   \n",
       "3                               -499.211024   \n",
       "\n",
       "   primary_cleaner.state.floatbank8_c_air  ...  \\\n",
       "0                             1400.102998  ...   \n",
       "1                             1396.151033  ...   \n",
       "2                             1398.075709  ...   \n",
       "3                             1400.129303  ...   \n",
       "\n",
       "   secondary_cleaner.state.floatbank4_a_air  \\\n",
       "0                                 12.023554   \n",
       "1                                 12.058140   \n",
       "2                                 11.962366   \n",
       "3                                 12.033091   \n",
       "\n",
       "   secondary_cleaner.state.floatbank4_a_level  \\\n",
       "0                                 -497.795834   \n",
       "1                                 -498.695773   \n",
       "2                                 -498.767484   \n",
       "3                                 -498.350935   \n",
       "\n",
       "   secondary_cleaner.state.floatbank4_b_air  \\\n",
       "0                                  8.016656   \n",
       "1                                  8.130979   \n",
       "2                                  8.096893   \n",
       "3                                  8.074946   \n",
       "\n",
       "   secondary_cleaner.state.floatbank4_b_level  \\\n",
       "0                                 -501.289139   \n",
       "1                                 -499.634209   \n",
       "2                                 -500.827423   \n",
       "3                                 -499.474407   \n",
       "\n",
       "   secondary_cleaner.state.floatbank5_a_air  \\\n",
       "0                                  7.946562   \n",
       "1                                  7.958270   \n",
       "2                                  8.071056   \n",
       "3                                  7.897085   \n",
       "\n",
       "   secondary_cleaner.state.floatbank5_a_level  \\\n",
       "0                                 -432.317850   \n",
       "1                                 -525.839648   \n",
       "2                                 -500.801673   \n",
       "3                                 -500.868509   \n",
       "\n",
       "   secondary_cleaner.state.floatbank5_b_air  \\\n",
       "0                                  4.872511   \n",
       "1                                  4.878850   \n",
       "2                                  4.905125   \n",
       "3                                  4.931400   \n",
       "\n",
       "   secondary_cleaner.state.floatbank5_b_level  \\\n",
       "0                                 -500.037437   \n",
       "1                                 -500.162375   \n",
       "2                                 -499.828510   \n",
       "3                                 -499.963623   \n",
       "\n",
       "   secondary_cleaner.state.floatbank6_a_air  \\\n",
       "0                                 26.705889   \n",
       "1                                 25.019940   \n",
       "2                                 24.994862   \n",
       "3                                 24.948919   \n",
       "\n",
       "   secondary_cleaner.state.floatbank6_a_level  \n",
       "0                                 -499.709414  \n",
       "1                                 -499.819438  \n",
       "2                                 -500.622559  \n",
       "3                                 -498.709987  \n",
       "\n",
       "[4 rows x 53 columns]"
      ]
     },
     "execution_count": 5,
     "metadata": {},
     "output_type": "execute_result"
    }
   ],
   "source": [
    "gold_test.head(4)"
   ]
  },
  {
   "cell_type": "code",
   "execution_count": 6,
   "id": "b9816185",
   "metadata": {},
   "outputs": [
    {
     "name": "stdout",
     "output_type": "stream",
     "text": [
      "<class 'pandas.core.frame.DataFrame'>\n",
      "RangeIndex: 5856 entries, 0 to 5855\n",
      "Data columns (total 53 columns):\n",
      " #   Column                                      Non-Null Count  Dtype  \n",
      "---  ------                                      --------------  -----  \n",
      " 0   date                                        5856 non-null   object \n",
      " 1   primary_cleaner.input.sulfate               5554 non-null   float64\n",
      " 2   primary_cleaner.input.depressant            5572 non-null   float64\n",
      " 3   primary_cleaner.input.feed_size             5856 non-null   float64\n",
      " 4   primary_cleaner.input.xanthate              5690 non-null   float64\n",
      " 5   primary_cleaner.state.floatbank8_a_air      5840 non-null   float64\n",
      " 6   primary_cleaner.state.floatbank8_a_level    5840 non-null   float64\n",
      " 7   primary_cleaner.state.floatbank8_b_air      5840 non-null   float64\n",
      " 8   primary_cleaner.state.floatbank8_b_level    5840 non-null   float64\n",
      " 9   primary_cleaner.state.floatbank8_c_air      5840 non-null   float64\n",
      " 10  primary_cleaner.state.floatbank8_c_level    5840 non-null   float64\n",
      " 11  primary_cleaner.state.floatbank8_d_air      5840 non-null   float64\n",
      " 12  primary_cleaner.state.floatbank8_d_level    5840 non-null   float64\n",
      " 13  rougher.input.feed_ag                       5840 non-null   float64\n",
      " 14  rougher.input.feed_pb                       5840 non-null   float64\n",
      " 15  rougher.input.feed_rate                     5816 non-null   float64\n",
      " 16  rougher.input.feed_size                     5834 non-null   float64\n",
      " 17  rougher.input.feed_sol                      5789 non-null   float64\n",
      " 18  rougher.input.feed_au                       5840 non-null   float64\n",
      " 19  rougher.input.floatbank10_sulfate           5599 non-null   float64\n",
      " 20  rougher.input.floatbank10_xanthate          5733 non-null   float64\n",
      " 21  rougher.input.floatbank11_sulfate           5801 non-null   float64\n",
      " 22  rougher.input.floatbank11_xanthate          5503 non-null   float64\n",
      " 23  rougher.state.floatbank10_a_air             5839 non-null   float64\n",
      " 24  rougher.state.floatbank10_a_level           5840 non-null   float64\n",
      " 25  rougher.state.floatbank10_b_air             5839 non-null   float64\n",
      " 26  rougher.state.floatbank10_b_level           5840 non-null   float64\n",
      " 27  rougher.state.floatbank10_c_air             5839 non-null   float64\n",
      " 28  rougher.state.floatbank10_c_level           5840 non-null   float64\n",
      " 29  rougher.state.floatbank10_d_air             5839 non-null   float64\n",
      " 30  rougher.state.floatbank10_d_level           5840 non-null   float64\n",
      " 31  rougher.state.floatbank10_e_air             5839 non-null   float64\n",
      " 32  rougher.state.floatbank10_e_level           5840 non-null   float64\n",
      " 33  rougher.state.floatbank10_f_air             5839 non-null   float64\n",
      " 34  rougher.state.floatbank10_f_level           5840 non-null   float64\n",
      " 35  secondary_cleaner.state.floatbank2_a_air    5836 non-null   float64\n",
      " 36  secondary_cleaner.state.floatbank2_a_level  5840 non-null   float64\n",
      " 37  secondary_cleaner.state.floatbank2_b_air    5833 non-null   float64\n",
      " 38  secondary_cleaner.state.floatbank2_b_level  5840 non-null   float64\n",
      " 39  secondary_cleaner.state.floatbank3_a_air    5822 non-null   float64\n",
      " 40  secondary_cleaner.state.floatbank3_a_level  5840 non-null   float64\n",
      " 41  secondary_cleaner.state.floatbank3_b_air    5840 non-null   float64\n",
      " 42  secondary_cleaner.state.floatbank3_b_level  5840 non-null   float64\n",
      " 43  secondary_cleaner.state.floatbank4_a_air    5840 non-null   float64\n",
      " 44  secondary_cleaner.state.floatbank4_a_level  5840 non-null   float64\n",
      " 45  secondary_cleaner.state.floatbank4_b_air    5840 non-null   float64\n",
      " 46  secondary_cleaner.state.floatbank4_b_level  5840 non-null   float64\n",
      " 47  secondary_cleaner.state.floatbank5_a_air    5840 non-null   float64\n",
      " 48  secondary_cleaner.state.floatbank5_a_level  5840 non-null   float64\n",
      " 49  secondary_cleaner.state.floatbank5_b_air    5840 non-null   float64\n",
      " 50  secondary_cleaner.state.floatbank5_b_level  5840 non-null   float64\n",
      " 51  secondary_cleaner.state.floatbank6_a_air    5840 non-null   float64\n",
      " 52  secondary_cleaner.state.floatbank6_a_level  5840 non-null   float64\n",
      "dtypes: float64(52), object(1)\n",
      "memory usage: 2.4+ MB\n"
     ]
    }
   ],
   "source": [
    "gold_test.info()"
   ]
  },
  {
   "cell_type": "code",
   "execution_count": 7,
   "id": "695d1575",
   "metadata": {},
   "outputs": [
    {
     "data": {
      "text/html": [
       "<div>\n",
       "<style scoped>\n",
       "    .dataframe tbody tr th:only-of-type {\n",
       "        vertical-align: middle;\n",
       "    }\n",
       "\n",
       "    .dataframe tbody tr th {\n",
       "        vertical-align: top;\n",
       "    }\n",
       "\n",
       "    .dataframe thead th {\n",
       "        text-align: right;\n",
       "    }\n",
       "</style>\n",
       "<table border=\"1\" class=\"dataframe\">\n",
       "  <thead>\n",
       "    <tr style=\"text-align: right;\">\n",
       "      <th></th>\n",
       "      <th>date</th>\n",
       "      <th>final.output.concentrate_ag</th>\n",
       "      <th>final.output.concentrate_pb</th>\n",
       "      <th>final.output.concentrate_sol</th>\n",
       "      <th>final.output.concentrate_au</th>\n",
       "      <th>final.output.recovery</th>\n",
       "      <th>final.output.tail_ag</th>\n",
       "      <th>final.output.tail_pb</th>\n",
       "      <th>final.output.tail_sol</th>\n",
       "      <th>final.output.tail_au</th>\n",
       "      <th>...</th>\n",
       "      <th>secondary_cleaner.state.floatbank4_a_air</th>\n",
       "      <th>secondary_cleaner.state.floatbank4_a_level</th>\n",
       "      <th>secondary_cleaner.state.floatbank4_b_air</th>\n",
       "      <th>secondary_cleaner.state.floatbank4_b_level</th>\n",
       "      <th>secondary_cleaner.state.floatbank5_a_air</th>\n",
       "      <th>secondary_cleaner.state.floatbank5_a_level</th>\n",
       "      <th>secondary_cleaner.state.floatbank5_b_air</th>\n",
       "      <th>secondary_cleaner.state.floatbank5_b_level</th>\n",
       "      <th>secondary_cleaner.state.floatbank6_a_air</th>\n",
       "      <th>secondary_cleaner.state.floatbank6_a_level</th>\n",
       "    </tr>\n",
       "  </thead>\n",
       "  <tbody>\n",
       "    <tr>\n",
       "      <th>15138</th>\n",
       "      <td>2017-10-06 17:59:59</td>\n",
       "      <td>0.000000</td>\n",
       "      <td>0.000000</td>\n",
       "      <td>0.000000</td>\n",
       "      <td>0.000000</td>\n",
       "      <td>NaN</td>\n",
       "      <td>0.000000</td>\n",
       "      <td>0.000000</td>\n",
       "      <td>0.000000</td>\n",
       "      <td>0.000000</td>\n",
       "      <td>...</td>\n",
       "      <td>16.985673</td>\n",
       "      <td>-499.480024</td>\n",
       "      <td>15.097257</td>\n",
       "      <td>-399.774112</td>\n",
       "      <td>11.977199</td>\n",
       "      <td>-500.451825</td>\n",
       "      <td>8.999026</td>\n",
       "      <td>-499.979876</td>\n",
       "      <td>13.009877</td>\n",
       "      <td>-499.883635</td>\n",
       "    </tr>\n",
       "    <tr>\n",
       "      <th>13898</th>\n",
       "      <td>2017-08-16 01:59:59</td>\n",
       "      <td>3.923679</td>\n",
       "      <td>12.672608</td>\n",
       "      <td>6.300892</td>\n",
       "      <td>45.497218</td>\n",
       "      <td>61.753953</td>\n",
       "      <td>7.440456</td>\n",
       "      <td>3.825434</td>\n",
       "      <td>10.103439</td>\n",
       "      <td>2.992300</td>\n",
       "      <td>...</td>\n",
       "      <td>14.535670</td>\n",
       "      <td>-499.137945</td>\n",
       "      <td>10.853760</td>\n",
       "      <td>-400.044570</td>\n",
       "      <td>14.013937</td>\n",
       "      <td>-499.652484</td>\n",
       "      <td>11.026331</td>\n",
       "      <td>-500.070012</td>\n",
       "      <td>14.961535</td>\n",
       "      <td>-500.023738</td>\n",
       "    </tr>\n",
       "    <tr>\n",
       "      <th>20711</th>\n",
       "      <td>2018-05-26 22:59:59</td>\n",
       "      <td>3.339343</td>\n",
       "      <td>6.069585</td>\n",
       "      <td>4.296782</td>\n",
       "      <td>26.808137</td>\n",
       "      <td>72.281039</td>\n",
       "      <td>9.344683</td>\n",
       "      <td>1.762594</td>\n",
       "      <td>10.329573</td>\n",
       "      <td>2.506572</td>\n",
       "      <td>...</td>\n",
       "      <td>30.013430</td>\n",
       "      <td>-498.875773</td>\n",
       "      <td>20.076945</td>\n",
       "      <td>-499.854380</td>\n",
       "      <td>17.932788</td>\n",
       "      <td>-499.389924</td>\n",
       "      <td>13.999659</td>\n",
       "      <td>-499.443104</td>\n",
       "      <td>13.988534</td>\n",
       "      <td>-500.044621</td>\n",
       "    </tr>\n",
       "    <tr>\n",
       "      <th>932</th>\n",
       "      <td>2016-02-22 20:00:00</td>\n",
       "      <td>6.710100</td>\n",
       "      <td>12.376342</td>\n",
       "      <td>10.857932</td>\n",
       "      <td>38.203048</td>\n",
       "      <td>75.213831</td>\n",
       "      <td>13.042780</td>\n",
       "      <td>2.324336</td>\n",
       "      <td>9.944505</td>\n",
       "      <td>3.135507</td>\n",
       "      <td>...</td>\n",
       "      <td>14.069885</td>\n",
       "      <td>-399.115534</td>\n",
       "      <td>11.923876</td>\n",
       "      <td>-400.260193</td>\n",
       "      <td>11.935813</td>\n",
       "      <td>-400.025041</td>\n",
       "      <td>10.003031</td>\n",
       "      <td>-399.823749</td>\n",
       "      <td>32.037007</td>\n",
       "      <td>-400.001151</td>\n",
       "    </tr>\n",
       "  </tbody>\n",
       "</table>\n",
       "<p>4 rows × 87 columns</p>\n",
       "</div>"
      ],
      "text/plain": [
       "                      date  final.output.concentrate_ag  \\\n",
       "15138  2017-10-06 17:59:59                     0.000000   \n",
       "13898  2017-08-16 01:59:59                     3.923679   \n",
       "20711  2018-05-26 22:59:59                     3.339343   \n",
       "932    2016-02-22 20:00:00                     6.710100   \n",
       "\n",
       "       final.output.concentrate_pb  final.output.concentrate_sol  \\\n",
       "15138                     0.000000                      0.000000   \n",
       "13898                    12.672608                      6.300892   \n",
       "20711                     6.069585                      4.296782   \n",
       "932                      12.376342                     10.857932   \n",
       "\n",
       "       final.output.concentrate_au  final.output.recovery  \\\n",
       "15138                     0.000000                    NaN   \n",
       "13898                    45.497218              61.753953   \n",
       "20711                    26.808137              72.281039   \n",
       "932                      38.203048              75.213831   \n",
       "\n",
       "       final.output.tail_ag  final.output.tail_pb  final.output.tail_sol  \\\n",
       "15138              0.000000              0.000000               0.000000   \n",
       "13898              7.440456              3.825434              10.103439   \n",
       "20711              9.344683              1.762594              10.329573   \n",
       "932               13.042780              2.324336               9.944505   \n",
       "\n",
       "       final.output.tail_au  ...  secondary_cleaner.state.floatbank4_a_air  \\\n",
       "15138              0.000000  ...                                 16.985673   \n",
       "13898              2.992300  ...                                 14.535670   \n",
       "20711              2.506572  ...                                 30.013430   \n",
       "932                3.135507  ...                                 14.069885   \n",
       "\n",
       "       secondary_cleaner.state.floatbank4_a_level  \\\n",
       "15138                                 -499.480024   \n",
       "13898                                 -499.137945   \n",
       "20711                                 -498.875773   \n",
       "932                                   -399.115534   \n",
       "\n",
       "       secondary_cleaner.state.floatbank4_b_air  \\\n",
       "15138                                 15.097257   \n",
       "13898                                 10.853760   \n",
       "20711                                 20.076945   \n",
       "932                                   11.923876   \n",
       "\n",
       "       secondary_cleaner.state.floatbank4_b_level  \\\n",
       "15138                                 -399.774112   \n",
       "13898                                 -400.044570   \n",
       "20711                                 -499.854380   \n",
       "932                                   -400.260193   \n",
       "\n",
       "       secondary_cleaner.state.floatbank5_a_air  \\\n",
       "15138                                 11.977199   \n",
       "13898                                 14.013937   \n",
       "20711                                 17.932788   \n",
       "932                                   11.935813   \n",
       "\n",
       "       secondary_cleaner.state.floatbank5_a_level  \\\n",
       "15138                                 -500.451825   \n",
       "13898                                 -499.652484   \n",
       "20711                                 -499.389924   \n",
       "932                                   -400.025041   \n",
       "\n",
       "       secondary_cleaner.state.floatbank5_b_air  \\\n",
       "15138                                  8.999026   \n",
       "13898                                 11.026331   \n",
       "20711                                 13.999659   \n",
       "932                                   10.003031   \n",
       "\n",
       "       secondary_cleaner.state.floatbank5_b_level  \\\n",
       "15138                                 -499.979876   \n",
       "13898                                 -500.070012   \n",
       "20711                                 -499.443104   \n",
       "932                                   -399.823749   \n",
       "\n",
       "       secondary_cleaner.state.floatbank6_a_air  \\\n",
       "15138                                 13.009877   \n",
       "13898                                 14.961535   \n",
       "20711                                 13.988534   \n",
       "932                                   32.037007   \n",
       "\n",
       "       secondary_cleaner.state.floatbank6_a_level  \n",
       "15138                                 -499.883635  \n",
       "13898                                 -500.023738  \n",
       "20711                                 -500.044621  \n",
       "932                                   -400.001151  \n",
       "\n",
       "[4 rows x 87 columns]"
      ]
     },
     "execution_count": 7,
     "metadata": {},
     "output_type": "execute_result"
    }
   ],
   "source": [
    "gold_full.sample(4)"
   ]
  },
  {
   "cell_type": "code",
   "execution_count": 8,
   "id": "7ff9e47b",
   "metadata": {},
   "outputs": [
    {
     "name": "stdout",
     "output_type": "stream",
     "text": [
      "<class 'pandas.core.frame.DataFrame'>\n",
      "RangeIndex: 22716 entries, 0 to 22715\n",
      "Data columns (total 87 columns):\n",
      " #   Column                                              Non-Null Count  Dtype  \n",
      "---  ------                                              --------------  -----  \n",
      " 0   date                                                22716 non-null  object \n",
      " 1   final.output.concentrate_ag                         22627 non-null  float64\n",
      " 2   final.output.concentrate_pb                         22629 non-null  float64\n",
      " 3   final.output.concentrate_sol                        22331 non-null  float64\n",
      " 4   final.output.concentrate_au                         22630 non-null  float64\n",
      " 5   final.output.recovery                               20753 non-null  float64\n",
      " 6   final.output.tail_ag                                22633 non-null  float64\n",
      " 7   final.output.tail_pb                                22516 non-null  float64\n",
      " 8   final.output.tail_sol                               22445 non-null  float64\n",
      " 9   final.output.tail_au                                22635 non-null  float64\n",
      " 10  primary_cleaner.input.sulfate                       21107 non-null  float64\n",
      " 11  primary_cleaner.input.depressant                    21170 non-null  float64\n",
      " 12  primary_cleaner.input.feed_size                     22716 non-null  float64\n",
      " 13  primary_cleaner.input.xanthate                      21565 non-null  float64\n",
      " 14  primary_cleaner.output.concentrate_ag               22618 non-null  float64\n",
      " 15  primary_cleaner.output.concentrate_pb               22268 non-null  float64\n",
      " 16  primary_cleaner.output.concentrate_sol              21918 non-null  float64\n",
      " 17  primary_cleaner.output.concentrate_au               22618 non-null  float64\n",
      " 18  primary_cleaner.output.tail_ag                      22614 non-null  float64\n",
      " 19  primary_cleaner.output.tail_pb                      22594 non-null  float64\n",
      " 20  primary_cleaner.output.tail_sol                     22365 non-null  float64\n",
      " 21  primary_cleaner.output.tail_au                      22617 non-null  float64\n",
      " 22  primary_cleaner.state.floatbank8_a_air              22660 non-null  float64\n",
      " 23  primary_cleaner.state.floatbank8_a_level            22667 non-null  float64\n",
      " 24  primary_cleaner.state.floatbank8_b_air              22660 non-null  float64\n",
      " 25  primary_cleaner.state.floatbank8_b_level            22673 non-null  float64\n",
      " 26  primary_cleaner.state.floatbank8_c_air              22662 non-null  float64\n",
      " 27  primary_cleaner.state.floatbank8_c_level            22673 non-null  float64\n",
      " 28  primary_cleaner.state.floatbank8_d_air              22661 non-null  float64\n",
      " 29  primary_cleaner.state.floatbank8_d_level            22673 non-null  float64\n",
      " 30  rougher.calculation.sulfate_to_au_concentrate       22672 non-null  float64\n",
      " 31  rougher.calculation.floatbank10_sulfate_to_au_feed  22672 non-null  float64\n",
      " 32  rougher.calculation.floatbank11_sulfate_to_au_feed  22672 non-null  float64\n",
      " 33  rougher.calculation.au_pb_ratio                     21089 non-null  float64\n",
      " 34  rougher.input.feed_ag                               22618 non-null  float64\n",
      " 35  rougher.input.feed_pb                               22472 non-null  float64\n",
      " 36  rougher.input.feed_rate                             22163 non-null  float64\n",
      " 37  rougher.input.feed_size                             22277 non-null  float64\n",
      " 38  rougher.input.feed_sol                              22357 non-null  float64\n",
      " 39  rougher.input.feed_au                               22617 non-null  float64\n",
      " 40  rougher.input.floatbank10_sulfate                   21415 non-null  float64\n",
      " 41  rougher.input.floatbank10_xanthate                  22247 non-null  float64\n",
      " 42  rougher.input.floatbank11_sulfate                   22038 non-null  float64\n",
      " 43  rougher.input.floatbank11_xanthate                  20459 non-null  float64\n",
      " 44  rougher.output.concentrate_ag                       22618 non-null  float64\n",
      " 45  rougher.output.concentrate_pb                       22618 non-null  float64\n",
      " 46  rougher.output.concentrate_sol                      22526 non-null  float64\n",
      " 47  rougher.output.concentrate_au                       22618 non-null  float64\n",
      " 48  rougher.output.recovery                             19597 non-null  float64\n",
      " 49  rougher.output.tail_ag                              19979 non-null  float64\n",
      " 50  rougher.output.tail_pb                              22618 non-null  float64\n",
      " 51  rougher.output.tail_sol                             19980 non-null  float64\n",
      " 52  rougher.output.tail_au                              19980 non-null  float64\n",
      " 53  rougher.state.floatbank10_a_air                     22646 non-null  float64\n",
      " 54  rougher.state.floatbank10_a_level                   22647 non-null  float64\n",
      " 55  rougher.state.floatbank10_b_air                     22646 non-null  float64\n",
      " 56  rougher.state.floatbank10_b_level                   22647 non-null  float64\n",
      " 57  rougher.state.floatbank10_c_air                     22646 non-null  float64\n",
      " 58  rougher.state.floatbank10_c_level                   22654 non-null  float64\n",
      " 59  rougher.state.floatbank10_d_air                     22641 non-null  float64\n",
      " 60  rougher.state.floatbank10_d_level                   22649 non-null  float64\n",
      " 61  rougher.state.floatbank10_e_air                     22096 non-null  float64\n",
      " 62  rougher.state.floatbank10_e_level                   22649 non-null  float64\n",
      " 63  rougher.state.floatbank10_f_air                     22641 non-null  float64\n",
      " 64  rougher.state.floatbank10_f_level                   22642 non-null  float64\n",
      " 65  secondary_cleaner.output.tail_ag                    22616 non-null  float64\n",
      " 66  secondary_cleaner.output.tail_pb                    22600 non-null  float64\n",
      " 67  secondary_cleaner.output.tail_sol                   20501 non-null  float64\n",
      " 68  secondary_cleaner.output.tail_au                    22618 non-null  float64\n",
      " 69  secondary_cleaner.state.floatbank2_a_air            22333 non-null  float64\n",
      " 70  secondary_cleaner.state.floatbank2_a_level          22591 non-null  float64\n",
      " 71  secondary_cleaner.state.floatbank2_b_air            22538 non-null  float64\n",
      " 72  secondary_cleaner.state.floatbank2_b_level          22588 non-null  float64\n",
      " 73  secondary_cleaner.state.floatbank3_a_air            22585 non-null  float64\n",
      " 74  secondary_cleaner.state.floatbank3_a_level          22587 non-null  float64\n",
      " 75  secondary_cleaner.state.floatbank3_b_air            22592 non-null  float64\n",
      " 76  secondary_cleaner.state.floatbank3_b_level          22590 non-null  float64\n",
      " 77  secondary_cleaner.state.floatbank4_a_air            22571 non-null  float64\n",
      " 78  secondary_cleaner.state.floatbank4_a_level          22587 non-null  float64\n",
      " 79  secondary_cleaner.state.floatbank4_b_air            22608 non-null  float64\n",
      " 80  secondary_cleaner.state.floatbank4_b_level          22607 non-null  float64\n",
      " 81  secondary_cleaner.state.floatbank5_a_air            22615 non-null  float64\n",
      " 82  secondary_cleaner.state.floatbank5_a_level          22615 non-null  float64\n",
      " 83  secondary_cleaner.state.floatbank5_b_air            22615 non-null  float64\n",
      " 84  secondary_cleaner.state.floatbank5_b_level          22616 non-null  float64\n",
      " 85  secondary_cleaner.state.floatbank6_a_air            22597 non-null  float64\n",
      " 86  secondary_cleaner.state.floatbank6_a_level          22615 non-null  float64\n",
      "dtypes: float64(86), object(1)\n",
      "memory usage: 15.1+ MB\n"
     ]
    }
   ],
   "source": [
    "gold_full.info()"
   ]
  },
  {
   "cell_type": "markdown",
   "id": "816090cc",
   "metadata": {},
   "source": [
    "#### 1.2. Check that recovery is calculated correctly. "
   ]
  },
  {
   "cell_type": "markdown",
   "id": "f988ffb3",
   "metadata": {},
   "source": [
    "* C - AG consentrate in the output stream \n",
    "* F - Ag consentrate in the feed stream \n",
    "* T - AG consentrate in the tail stream\n",
    "* Calculate the recovery- how much gold has been recoverd"
   ]
  },
  {
   "cell_type": "code",
   "execution_count": 9,
   "id": "104c681c",
   "metadata": {},
   "outputs": [],
   "source": [
    "def recovery(C,F,T):\n",
    "    rec = 100*((C*(F-T))/(F*(C-T)))\n",
    "    return rec"
   ]
  },
  {
   "cell_type": "code",
   "execution_count": 10,
   "id": "cf1c1e8d",
   "metadata": {},
   "outputs": [],
   "source": [
    "df = gold_train.dropna()\n",
    "C = df['rougher.output.concentrate_au']\n",
    "F = df['rougher.input.feed_au']\n",
    "T = df['rougher.output.tail_au']"
   ]
  },
  {
   "cell_type": "code",
   "execution_count": 11,
   "id": "0eb697ac",
   "metadata": {},
   "outputs": [
    {
     "data": {
      "text/plain": [
       "9.460144184559453e-15"
      ]
     },
     "execution_count": 11,
     "metadata": {},
     "output_type": "execute_result"
    }
   ],
   "source": [
    "recovery = recovery(C,F,T)\n",
    "\n",
    "mae = mean_absolute_error(df['rougher.output.recovery'], recovery)\n",
    "mae"
   ]
  },
  {
   "cell_type": "markdown",
   "id": "2ce9f410",
   "metadata": {},
   "source": [
    "* Once the Nan values are ignored, MAE value is close to zero, which mean the Au calculated recovery is pretty close to the given recovery"
   ]
  },
  {
   "cell_type": "markdown",
   "id": "14c56a17",
   "metadata": {},
   "source": [
    "#### 1.3. Analyze the features not available in the test set. \n"
   ]
  },
  {
   "cell_type": "code",
   "execution_count": 12,
   "id": "0aaf1c6f",
   "metadata": {},
   "outputs": [
    {
     "data": {
      "text/plain": [
       "Index(['final.output.concentrate_ag', 'final.output.concentrate_au',\n",
       "       'final.output.concentrate_pb', 'final.output.concentrate_sol',\n",
       "       'final.output.recovery', 'final.output.tail_ag', 'final.output.tail_au',\n",
       "       'final.output.tail_pb', 'final.output.tail_sol',\n",
       "       'primary_cleaner.output.concentrate_ag',\n",
       "       'primary_cleaner.output.concentrate_au',\n",
       "       'primary_cleaner.output.concentrate_pb',\n",
       "       'primary_cleaner.output.concentrate_sol',\n",
       "       'primary_cleaner.output.tail_ag', 'primary_cleaner.output.tail_au',\n",
       "       'primary_cleaner.output.tail_pb', 'primary_cleaner.output.tail_sol',\n",
       "       'rougher.calculation.au_pb_ratio',\n",
       "       'rougher.calculation.floatbank10_sulfate_to_au_feed',\n",
       "       'rougher.calculation.floatbank11_sulfate_to_au_feed',\n",
       "       'rougher.calculation.sulfate_to_au_concentrate',\n",
       "       'rougher.output.concentrate_ag', 'rougher.output.concentrate_au',\n",
       "       'rougher.output.concentrate_pb', 'rougher.output.concentrate_sol',\n",
       "       'rougher.output.recovery', 'rougher.output.tail_ag',\n",
       "       'rougher.output.tail_au', 'rougher.output.tail_pb',\n",
       "       'rougher.output.tail_sol', 'secondary_cleaner.output.tail_ag',\n",
       "       'secondary_cleaner.output.tail_au', 'secondary_cleaner.output.tail_pb',\n",
       "       'secondary_cleaner.output.tail_sol'],\n",
       "      dtype='object')"
      ]
     },
     "execution_count": 12,
     "metadata": {},
     "output_type": "execute_result"
    }
   ],
   "source": [
    "gold_train_cols = gold_train.columns\n",
    "gold_test_cols = gold_test.columns\n",
    "\n",
    "common_cols = gold_train_cols.intersection(gold_test_cols)\n",
    "train_not_test = gold_train_cols.difference(gold_test_cols)\n",
    "train_not_test"
   ]
  },
  {
   "cell_type": "markdown",
   "id": "787c01ca",
   "metadata": {},
   "source": [
    "* The test-set contains:\n",
    "    * data on the feed stream for the first stage,\n",
    "    * data about the substances in each pool,\n",
    "* The test-set missing data about the output stream on stages:\n",
    "    * final.output\n",
    "    * primary_cleaner.output\n",
    "    * rougher.calculation\n",
    "    * rougher.output\n",
    "    * secondary_cleaner.output"
   ]
  },
  {
   "cell_type": "markdown",
   "id": "52a79553",
   "metadata": {},
   "source": [
    "#### 1.4. Data preprocessing."
   ]
  },
  {
   "cell_type": "markdown",
   "id": "8b4e8288",
   "metadata": {},
   "source": [
    "<img src=\"Image.jpg\" >"
   ]
  },
  {
   "cell_type": "code",
   "execution_count": 13,
   "id": "5db9b9f8",
   "metadata": {},
   "outputs": [
    {
     "data": {
      "text/plain": [
       "count    87.000000\n",
       "mean      0.018513\n",
       "std       0.031835\n",
       "min       0.000000\n",
       "25%       0.003280\n",
       "50%       0.004446\n",
       "75%       0.015628\n",
       "max       0.137304\n",
       "dtype: float64"
      ]
     },
     "execution_count": 13,
     "metadata": {},
     "output_type": "execute_result"
    }
   ],
   "source": [
    "x = gold_full.isnull().sum()/ len(gold_full)\n",
    "x = x.sort_values(ascending = True)\n",
    "x.describe()"
   ]
  },
  {
   "cell_type": "markdown",
   "id": "cda8c175",
   "metadata": {},
   "source": [
    "* At the 'rougher.output.recovery'  there are 13.7% of missing values, which is the maximum of missing values considering all the other columns. we should keep in mind the 'rougher.output.recovery' is one of the targets.\n",
    "* we got almost 22.7k rows, describing measurement from Janury 2016- to July 2018, lets see if the dates are sorted, and if it's possible to fill the missing value from the next row."
   ]
  },
  {
   "cell_type": "code",
   "execution_count": 15,
   "id": "ada7f683",
   "metadata": {},
   "outputs": [],
   "source": [
    "# make sure the date column is sorted: \n",
    "# fig1 = px.line(gold_full,\n",
    "#                x = gold_full.index,\n",
    "#                y = gold_full['date'],\n",
    "#                title=\"date per index\")\n",
    "# fig1.show()\n"
   ]
  },
  {
   "attachments": {
    "newplot.png": {
     "image/png": "[encoded data removed]"
    }
   },
   "cell_type": "markdown",
   "id": "9e4e51ab",
   "metadata": {},
   "source": [
    "![newplot.png](attachment:newplot.png)"
   ]
  },
  {
   "cell_type": "markdown",
   "id": "9724b2bb",
   "metadata": {},
   "source": [
    "* The database provides information collected for each hour. By figure 1 the data measured consistently.\n",
    "* It makes sense to fill the missing values by the next cell, the data for the next hour, after droping the row with Nan target. \n"
   ]
  },
  {
   "cell_type": "code",
   "execution_count": 16,
   "id": "d288ef57",
   "metadata": {
    "scrolled": false
   },
   "outputs": [
    {
     "name": "stdout",
     "output_type": "stream",
     "text": [
      "<class 'pandas.core.frame.DataFrame'>\n",
      "RangeIndex: 22716 entries, 0 to 22715\n",
      "Data columns (total 87 columns):\n",
      " #   Column                                              Non-Null Count  Dtype  \n",
      "---  ------                                              --------------  -----  \n",
      " 0   date                                                22716 non-null  object \n",
      " 1   final.output.concentrate_ag                         22716 non-null  float64\n",
      " 2   final.output.concentrate_pb                         22716 non-null  float64\n",
      " 3   final.output.concentrate_sol                        22716 non-null  float64\n",
      " 4   final.output.concentrate_au                         22716 non-null  float64\n",
      " 5   final.output.recovery                               22716 non-null  float64\n",
      " 6   final.output.tail_ag                                22716 non-null  float64\n",
      " 7   final.output.tail_pb                                22716 non-null  float64\n",
      " 8   final.output.tail_sol                               22716 non-null  float64\n",
      " 9   final.output.tail_au                                22716 non-null  float64\n",
      " 10  primary_cleaner.input.sulfate                       22716 non-null  float64\n",
      " 11  primary_cleaner.input.depressant                    22716 non-null  float64\n",
      " 12  primary_cleaner.input.feed_size                     22716 non-null  float64\n",
      " 13  primary_cleaner.input.xanthate                      22716 non-null  float64\n",
      " 14  primary_cleaner.output.concentrate_ag               22716 non-null  float64\n",
      " 15  primary_cleaner.output.concentrate_pb               22716 non-null  float64\n",
      " 16  primary_cleaner.output.concentrate_sol              22716 non-null  float64\n",
      " 17  primary_cleaner.output.concentrate_au               22716 non-null  float64\n",
      " 18  primary_cleaner.output.tail_ag                      22716 non-null  float64\n",
      " 19  primary_cleaner.output.tail_pb                      22716 non-null  float64\n",
      " 20  primary_cleaner.output.tail_sol                     22716 non-null  float64\n",
      " 21  primary_cleaner.output.tail_au                      22716 non-null  float64\n",
      " 22  primary_cleaner.state.floatbank8_a_air              22716 non-null  float64\n",
      " 23  primary_cleaner.state.floatbank8_a_level            22716 non-null  float64\n",
      " 24  primary_cleaner.state.floatbank8_b_air              22716 non-null  float64\n",
      " 25  primary_cleaner.state.floatbank8_b_level            22716 non-null  float64\n",
      " 26  primary_cleaner.state.floatbank8_c_air              22716 non-null  float64\n",
      " 27  primary_cleaner.state.floatbank8_c_level            22716 non-null  float64\n",
      " 28  primary_cleaner.state.floatbank8_d_air              22716 non-null  float64\n",
      " 29  primary_cleaner.state.floatbank8_d_level            22716 non-null  float64\n",
      " 30  rougher.calculation.sulfate_to_au_concentrate       22716 non-null  float64\n",
      " 31  rougher.calculation.floatbank10_sulfate_to_au_feed  22716 non-null  float64\n",
      " 32  rougher.calculation.floatbank11_sulfate_to_au_feed  22716 non-null  float64\n",
      " 33  rougher.calculation.au_pb_ratio                     22716 non-null  float64\n",
      " 34  rougher.input.feed_ag                               22716 non-null  float64\n",
      " 35  rougher.input.feed_pb                               22716 non-null  float64\n",
      " 36  rougher.input.feed_rate                             22716 non-null  float64\n",
      " 37  rougher.input.feed_size                             22716 non-null  float64\n",
      " 38  rougher.input.feed_sol                              22716 non-null  float64\n",
      " 39  rougher.input.feed_au                               22716 non-null  float64\n",
      " 40  rougher.input.floatbank10_sulfate                   22716 non-null  float64\n",
      " 41  rougher.input.floatbank10_xanthate                  22716 non-null  float64\n",
      " 42  rougher.input.floatbank11_sulfate                   22716 non-null  float64\n",
      " 43  rougher.input.floatbank11_xanthate                  22716 non-null  float64\n",
      " 44  rougher.output.concentrate_ag                       22716 non-null  float64\n",
      " 45  rougher.output.concentrate_pb                       22716 non-null  float64\n",
      " 46  rougher.output.concentrate_sol                      22716 non-null  float64\n",
      " 47  rougher.output.concentrate_au                       22716 non-null  float64\n",
      " 48  rougher.output.recovery                             22716 non-null  float64\n",
      " 49  rougher.output.tail_ag                              22716 non-null  float64\n",
      " 50  rougher.output.tail_pb                              22716 non-null  float64\n",
      " 51  rougher.output.tail_sol                             22716 non-null  float64\n",
      " 52  rougher.output.tail_au                              22716 non-null  float64\n",
      " 53  rougher.state.floatbank10_a_air                     22716 non-null  float64\n",
      " 54  rougher.state.floatbank10_a_level                   22716 non-null  float64\n",
      " 55  rougher.state.floatbank10_b_air                     22716 non-null  float64\n",
      " 56  rougher.state.floatbank10_b_level                   22716 non-null  float64\n",
      " 57  rougher.state.floatbank10_c_air                     22716 non-null  float64\n",
      " 58  rougher.state.floatbank10_c_level                   22716 non-null  float64\n",
      " 59  rougher.state.floatbank10_d_air                     22716 non-null  float64\n",
      " 60  rougher.state.floatbank10_d_level                   22716 non-null  float64\n",
      " 61  rougher.state.floatbank10_e_air                     22716 non-null  float64\n",
      " 62  rougher.state.floatbank10_e_level                   22716 non-null  float64\n",
      " 63  rougher.state.floatbank10_f_air                     22716 non-null  float64\n",
      " 64  rougher.state.floatbank10_f_level                   22716 non-null  float64\n",
      " 65  secondary_cleaner.output.tail_ag                    22716 non-null  float64\n",
      " 66  secondary_cleaner.output.tail_pb                    22716 non-null  float64\n",
      " 67  secondary_cleaner.output.tail_sol                   22716 non-null  float64\n",
      " 68  secondary_cleaner.output.tail_au                    22716 non-null  float64\n",
      " 69  secondary_cleaner.state.floatbank2_a_air            22716 non-null  float64\n",
      " 70  secondary_cleaner.state.floatbank2_a_level          22716 non-null  float64\n",
      " 71  secondary_cleaner.state.floatbank2_b_air            22716 non-null  float64\n",
      " 72  secondary_cleaner.state.floatbank2_b_level          22716 non-null  float64\n",
      " 73  secondary_cleaner.state.floatbank3_a_air            22716 non-null  float64\n",
      " 74  secondary_cleaner.state.floatbank3_a_level          22716 non-null  float64\n",
      " 75  secondary_cleaner.state.floatbank3_b_air            22716 non-null  float64\n",
      " 76  secondary_cleaner.state.floatbank3_b_level          22716 non-null  float64\n",
      " 77  secondary_cleaner.state.floatbank4_a_air            22716 non-null  float64\n",
      " 78  secondary_cleaner.state.floatbank4_a_level          22716 non-null  float64\n",
      " 79  secondary_cleaner.state.floatbank4_b_air            22716 non-null  float64\n",
      " 80  secondary_cleaner.state.floatbank4_b_level          22716 non-null  float64\n",
      " 81  secondary_cleaner.state.floatbank5_a_air            22716 non-null  float64\n",
      " 82  secondary_cleaner.state.floatbank5_a_level          22716 non-null  float64\n",
      " 83  secondary_cleaner.state.floatbank5_b_air            22716 non-null  float64\n",
      " 84  secondary_cleaner.state.floatbank5_b_level          22716 non-null  float64\n",
      " 85  secondary_cleaner.state.floatbank6_a_air            22716 non-null  float64\n",
      " 86  secondary_cleaner.state.floatbank6_a_level          22716 non-null  float64\n",
      "dtypes: float64(86), object(1)\n",
      "memory usage: 15.1+ MB\n",
      "None\n",
      "<class 'pandas.core.frame.DataFrame'>\n",
      "RangeIndex: 16860 entries, 0 to 16859\n",
      "Data columns (total 87 columns):\n",
      " #   Column                                              Non-Null Count  Dtype  \n",
      "---  ------                                              --------------  -----  \n",
      " 0   date                                                16860 non-null  object \n",
      " 1   final.output.concentrate_ag                         16860 non-null  float64\n",
      " 2   final.output.concentrate_pb                         16860 non-null  float64\n",
      " 3   final.output.concentrate_sol                        16860 non-null  float64\n",
      " 4   final.output.concentrate_au                         16860 non-null  float64\n",
      " 5   final.output.recovery                               16860 non-null  float64\n",
      " 6   final.output.tail_ag                                16860 non-null  float64\n",
      " 7   final.output.tail_pb                                16860 non-null  float64\n",
      " 8   final.output.tail_sol                               16860 non-null  float64\n",
      " 9   final.output.tail_au                                16860 non-null  float64\n",
      " 10  primary_cleaner.input.sulfate                       16860 non-null  float64\n",
      " 11  primary_cleaner.input.depressant                    16860 non-null  float64\n",
      " 12  primary_cleaner.input.feed_size                     16860 non-null  float64\n",
      " 13  primary_cleaner.input.xanthate                      16860 non-null  float64\n",
      " 14  primary_cleaner.output.concentrate_ag               16860 non-null  float64\n",
      " 15  primary_cleaner.output.concentrate_pb               16860 non-null  float64\n",
      " 16  primary_cleaner.output.concentrate_sol              16860 non-null  float64\n",
      " 17  primary_cleaner.output.concentrate_au               16860 non-null  float64\n",
      " 18  primary_cleaner.output.tail_ag                      16860 non-null  float64\n",
      " 19  primary_cleaner.output.tail_pb                      16860 non-null  float64\n",
      " 20  primary_cleaner.output.tail_sol                     16860 non-null  float64\n",
      " 21  primary_cleaner.output.tail_au                      16860 non-null  float64\n",
      " 22  primary_cleaner.state.floatbank8_a_air              16860 non-null  float64\n",
      " 23  primary_cleaner.state.floatbank8_a_level            16860 non-null  float64\n",
      " 24  primary_cleaner.state.floatbank8_b_air              16860 non-null  float64\n",
      " 25  primary_cleaner.state.floatbank8_b_level            16860 non-null  float64\n",
      " 26  primary_cleaner.state.floatbank8_c_air              16860 non-null  float64\n",
      " 27  primary_cleaner.state.floatbank8_c_level            16860 non-null  float64\n",
      " 28  primary_cleaner.state.floatbank8_d_air              16860 non-null  float64\n",
      " 29  primary_cleaner.state.floatbank8_d_level            16860 non-null  float64\n",
      " 30  rougher.calculation.sulfate_to_au_concentrate       16860 non-null  float64\n",
      " 31  rougher.calculation.floatbank10_sulfate_to_au_feed  16860 non-null  float64\n",
      " 32  rougher.calculation.floatbank11_sulfate_to_au_feed  16860 non-null  float64\n",
      " 33  rougher.calculation.au_pb_ratio                     16860 non-null  float64\n",
      " 34  rougher.input.feed_ag                               16860 non-null  float64\n",
      " 35  rougher.input.feed_pb                               16860 non-null  float64\n",
      " 36  rougher.input.feed_rate                             16860 non-null  float64\n",
      " 37  rougher.input.feed_size                             16860 non-null  float64\n",
      " 38  rougher.input.feed_sol                              16860 non-null  float64\n",
      " 39  rougher.input.feed_au                               16860 non-null  float64\n",
      " 40  rougher.input.floatbank10_sulfate                   16860 non-null  float64\n",
      " 41  rougher.input.floatbank10_xanthate                  16860 non-null  float64\n",
      " 42  rougher.input.floatbank11_sulfate                   16860 non-null  float64\n",
      " 43  rougher.input.floatbank11_xanthate                  16860 non-null  float64\n",
      " 44  rougher.output.concentrate_ag                       16860 non-null  float64\n",
      " 45  rougher.output.concentrate_pb                       16860 non-null  float64\n",
      " 46  rougher.output.concentrate_sol                      16860 non-null  float64\n",
      " 47  rougher.output.concentrate_au                       16860 non-null  float64\n",
      " 48  rougher.output.recovery                             16860 non-null  float64\n",
      " 49  rougher.output.tail_ag                              16860 non-null  float64\n",
      " 50  rougher.output.tail_pb                              16860 non-null  float64\n",
      " 51  rougher.output.tail_sol                             16860 non-null  float64\n",
      " 52  rougher.output.tail_au                              16860 non-null  float64\n",
      " 53  rougher.state.floatbank10_a_air                     16860 non-null  float64\n",
      " 54  rougher.state.floatbank10_a_level                   16860 non-null  float64\n",
      " 55  rougher.state.floatbank10_b_air                     16860 non-null  float64\n",
      " 56  rougher.state.floatbank10_b_level                   16860 non-null  float64\n",
      " 57  rougher.state.floatbank10_c_air                     16860 non-null  float64\n",
      " 58  rougher.state.floatbank10_c_level                   16860 non-null  float64\n",
      " 59  rougher.state.floatbank10_d_air                     16860 non-null  float64\n",
      " 60  rougher.state.floatbank10_d_level                   16860 non-null  float64\n",
      " 61  rougher.state.floatbank10_e_air                     16860 non-null  float64\n",
      " 62  rougher.state.floatbank10_e_level                   16860 non-null  float64\n",
      " 63  rougher.state.floatbank10_f_air                     16860 non-null  float64\n",
      " 64  rougher.state.floatbank10_f_level                   16860 non-null  float64\n",
      " 65  secondary_cleaner.output.tail_ag                    16860 non-null  float64\n",
      " 66  secondary_cleaner.output.tail_pb                    16860 non-null  float64\n",
      " 67  secondary_cleaner.output.tail_sol                   16860 non-null  float64\n",
      " 68  secondary_cleaner.output.tail_au                    16860 non-null  float64\n",
      " 69  secondary_cleaner.state.floatbank2_a_air            16860 non-null  float64\n",
      " 70  secondary_cleaner.state.floatbank2_a_level          16860 non-null  float64\n",
      " 71  secondary_cleaner.state.floatbank2_b_air            16860 non-null  float64\n",
      " 72  secondary_cleaner.state.floatbank2_b_level          16860 non-null  float64\n",
      " 73  secondary_cleaner.state.floatbank3_a_air            16860 non-null  float64\n",
      " 74  secondary_cleaner.state.floatbank3_a_level          16860 non-null  float64\n",
      " 75  secondary_cleaner.state.floatbank3_b_air            16860 non-null  float64\n",
      " 76  secondary_cleaner.state.floatbank3_b_level          16860 non-null  float64\n",
      " 77  secondary_cleaner.state.floatbank4_a_air            16860 non-null  float64\n",
      " 78  secondary_cleaner.state.floatbank4_a_level          16860 non-null  float64\n",
      " 79  secondary_cleaner.state.floatbank4_b_air            16860 non-null  float64\n",
      " 80  secondary_cleaner.state.floatbank4_b_level          16860 non-null  float64\n",
      " 81  secondary_cleaner.state.floatbank5_a_air            16860 non-null  float64\n",
      " 82  secondary_cleaner.state.floatbank5_a_level          16860 non-null  float64\n",
      " 83  secondary_cleaner.state.floatbank5_b_air            16860 non-null  float64\n",
      " 84  secondary_cleaner.state.floatbank5_b_level          16860 non-null  float64\n",
      " 85  secondary_cleaner.state.floatbank6_a_air            16860 non-null  float64\n",
      " 86  secondary_cleaner.state.floatbank6_a_level          16860 non-null  float64\n",
      "dtypes: float64(86), object(1)\n",
      "memory usage: 11.2+ MB\n",
      "None\n",
      "<class 'pandas.core.frame.DataFrame'>\n",
      "RangeIndex: 5856 entries, 0 to 5855\n",
      "Data columns (total 53 columns):\n",
      " #   Column                                      Non-Null Count  Dtype  \n",
      "---  ------                                      --------------  -----  \n",
      " 0   date                                        5856 non-null   object \n",
      " 1   primary_cleaner.input.sulfate               5856 non-null   float64\n",
      " 2   primary_cleaner.input.depressant            5856 non-null   float64\n",
      " 3   primary_cleaner.input.feed_size             5856 non-null   float64\n",
      " 4   primary_cleaner.input.xanthate              5856 non-null   float64\n",
      " 5   primary_cleaner.state.floatbank8_a_air      5856 non-null   float64\n",
      " 6   primary_cleaner.state.floatbank8_a_level    5856 non-null   float64\n",
      " 7   primary_cleaner.state.floatbank8_b_air      5856 non-null   float64\n",
      " 8   primary_cleaner.state.floatbank8_b_level    5856 non-null   float64\n",
      " 9   primary_cleaner.state.floatbank8_c_air      5856 non-null   float64\n",
      " 10  primary_cleaner.state.floatbank8_c_level    5856 non-null   float64\n",
      " 11  primary_cleaner.state.floatbank8_d_air      5856 non-null   float64\n",
      " 12  primary_cleaner.state.floatbank8_d_level    5856 non-null   float64\n",
      " 13  rougher.input.feed_ag                       5856 non-null   float64\n",
      " 14  rougher.input.feed_pb                       5856 non-null   float64\n",
      " 15  rougher.input.feed_rate                     5856 non-null   float64\n",
      " 16  rougher.input.feed_size                     5856 non-null   float64\n",
      " 17  rougher.input.feed_sol                      5856 non-null   float64\n",
      " 18  rougher.input.feed_au                       5856 non-null   float64\n",
      " 19  rougher.input.floatbank10_sulfate           5856 non-null   float64\n",
      " 20  rougher.input.floatbank10_xanthate          5856 non-null   float64\n",
      " 21  rougher.input.floatbank11_sulfate           5856 non-null   float64\n",
      " 22  rougher.input.floatbank11_xanthate          5856 non-null   float64\n",
      " 23  rougher.state.floatbank10_a_air             5856 non-null   float64\n",
      " 24  rougher.state.floatbank10_a_level           5856 non-null   float64\n",
      " 25  rougher.state.floatbank10_b_air             5856 non-null   float64\n",
      " 26  rougher.state.floatbank10_b_level           5856 non-null   float64\n",
      " 27  rougher.state.floatbank10_c_air             5856 non-null   float64\n",
      " 28  rougher.state.floatbank10_c_level           5856 non-null   float64\n",
      " 29  rougher.state.floatbank10_d_air             5856 non-null   float64\n",
      " 30  rougher.state.floatbank10_d_level           5856 non-null   float64\n",
      " 31  rougher.state.floatbank10_e_air             5856 non-null   float64\n",
      " 32  rougher.state.floatbank10_e_level           5856 non-null   float64\n",
      " 33  rougher.state.floatbank10_f_air             5856 non-null   float64\n",
      " 34  rougher.state.floatbank10_f_level           5856 non-null   float64\n",
      " 35  secondary_cleaner.state.floatbank2_a_air    5856 non-null   float64\n",
      " 36  secondary_cleaner.state.floatbank2_a_level  5856 non-null   float64\n",
      " 37  secondary_cleaner.state.floatbank2_b_air    5856 non-null   float64\n",
      " 38  secondary_cleaner.state.floatbank2_b_level  5856 non-null   float64\n",
      " 39  secondary_cleaner.state.floatbank3_a_air    5856 non-null   float64\n",
      " 40  secondary_cleaner.state.floatbank3_a_level  5856 non-null   float64\n",
      " 41  secondary_cleaner.state.floatbank3_b_air    5856 non-null   float64\n",
      " 42  secondary_cleaner.state.floatbank3_b_level  5856 non-null   float64\n",
      " 43  secondary_cleaner.state.floatbank4_a_air    5856 non-null   float64\n",
      " 44  secondary_cleaner.state.floatbank4_a_level  5856 non-null   float64\n",
      " 45  secondary_cleaner.state.floatbank4_b_air    5856 non-null   float64\n",
      " 46  secondary_cleaner.state.floatbank4_b_level  5856 non-null   float64\n",
      " 47  secondary_cleaner.state.floatbank5_a_air    5856 non-null   float64\n",
      " 48  secondary_cleaner.state.floatbank5_a_level  5856 non-null   float64\n",
      " 49  secondary_cleaner.state.floatbank5_b_air    5856 non-null   float64\n",
      " 50  secondary_cleaner.state.floatbank5_b_level  5856 non-null   float64\n",
      " 51  secondary_cleaner.state.floatbank6_a_air    5856 non-null   float64\n",
      " 52  secondary_cleaner.state.floatbank6_a_level  5856 non-null   float64\n",
      "dtypes: float64(52), object(1)\n",
      "memory usage: 2.4+ MB\n",
      "None\n"
     ]
    }
   ],
   "source": [
    "gold_full_relv = gold_full.dropna(subset=['rougher.output.concentrate_au', 'rougher.output.recovery'])\n",
    "gold_train_relv = gold_train.dropna(subset=['rougher.output.concentrate_au', 'rougher.output.recovery'])\n",
    "\n",
    "gold_full_relv = gold_full.fillna(method = 'ffill', axis = 0)\n",
    "gold_train_relv = gold_train.fillna(method = 'ffill', axis = 0)\n",
    "gold_test = gold_test.fillna(method = 'ffill', axis = 0)\n",
    "\n",
    "print(gold_full_relv.info())\n",
    "print(gold_train_relv.info())\n",
    "print(gold_test.info())"
   ]
  },
  {
   "cell_type": "code",
   "execution_count": 17,
   "id": "0705cc40",
   "metadata": {},
   "outputs": [
    {
     "data": {
      "text/plain": [
       "count    87.0\n",
       "mean      0.0\n",
       "std       0.0\n",
       "min       0.0\n",
       "25%       0.0\n",
       "50%       0.0\n",
       "75%       0.0\n",
       "max       0.0\n",
       "dtype: float64"
      ]
     },
     "execution_count": 17,
     "metadata": {},
     "output_type": "execute_result"
    }
   ],
   "source": [
    "x = gold_full_relv.isnull().sum()/ len(gold_full_relv)\n",
    "x = x.sort_values(ascending = True)\n",
    "x.describe()"
   ]
  },
  {
   "cell_type": "code",
   "execution_count": 18,
   "id": "654a87ed",
   "metadata": {},
   "outputs": [
    {
     "data": {
      "text/plain": [
       "count    87.0\n",
       "mean      0.0\n",
       "std       0.0\n",
       "min       0.0\n",
       "25%       0.0\n",
       "50%       0.0\n",
       "75%       0.0\n",
       "max       0.0\n",
       "dtype: float64"
      ]
     },
     "execution_count": 18,
     "metadata": {},
     "output_type": "execute_result"
    }
   ],
   "source": [
    "x = gold_train_relv.isnull().sum()/ len(gold_train_relv)\n",
    "x = x.sort_values(ascending = True)\n",
    "x.describe()"
   ]
  },
  {
   "cell_type": "code",
   "execution_count": 19,
   "id": "ae8f1dbf",
   "metadata": {
    "scrolled": true
   },
   "outputs": [
    {
     "data": {
      "text/html": [
       "<div>\n",
       "<style scoped>\n",
       "    .dataframe tbody tr th:only-of-type {\n",
       "        vertical-align: middle;\n",
       "    }\n",
       "\n",
       "    .dataframe tbody tr th {\n",
       "        vertical-align: top;\n",
       "    }\n",
       "\n",
       "    .dataframe thead th {\n",
       "        text-align: right;\n",
       "    }\n",
       "</style>\n",
       "<table border=\"1\" class=\"dataframe\">\n",
       "  <thead>\n",
       "    <tr style=\"text-align: right;\">\n",
       "      <th></th>\n",
       "      <th>date</th>\n",
       "      <th>final.output.concentrate_ag</th>\n",
       "      <th>final.output.concentrate_pb</th>\n",
       "      <th>final.output.concentrate_sol</th>\n",
       "      <th>final.output.concentrate_au</th>\n",
       "      <th>final.output.recovery</th>\n",
       "      <th>final.output.tail_ag</th>\n",
       "      <th>final.output.tail_pb</th>\n",
       "      <th>final.output.tail_sol</th>\n",
       "      <th>final.output.tail_au</th>\n",
       "      <th>...</th>\n",
       "      <th>secondary_cleaner.state.floatbank4_a_air</th>\n",
       "      <th>secondary_cleaner.state.floatbank4_a_level</th>\n",
       "      <th>secondary_cleaner.state.floatbank4_b_air</th>\n",
       "      <th>secondary_cleaner.state.floatbank4_b_level</th>\n",
       "      <th>secondary_cleaner.state.floatbank5_a_air</th>\n",
       "      <th>secondary_cleaner.state.floatbank5_a_level</th>\n",
       "      <th>secondary_cleaner.state.floatbank5_b_air</th>\n",
       "      <th>secondary_cleaner.state.floatbank5_b_level</th>\n",
       "      <th>secondary_cleaner.state.floatbank6_a_air</th>\n",
       "      <th>secondary_cleaner.state.floatbank6_a_level</th>\n",
       "    </tr>\n",
       "  </thead>\n",
       "  <tbody>\n",
       "  </tbody>\n",
       "</table>\n",
       "<p>0 rows × 87 columns</p>\n",
       "</div>"
      ],
      "text/plain": [
       "Empty DataFrame\n",
       "Columns: [date, final.output.concentrate_ag, final.output.concentrate_pb, final.output.concentrate_sol, final.output.concentrate_au, final.output.recovery, final.output.tail_ag, final.output.tail_pb, final.output.tail_sol, final.output.tail_au, primary_cleaner.input.sulfate, primary_cleaner.input.depressant, primary_cleaner.input.feed_size, primary_cleaner.input.xanthate, primary_cleaner.output.concentrate_ag, primary_cleaner.output.concentrate_pb, primary_cleaner.output.concentrate_sol, primary_cleaner.output.concentrate_au, primary_cleaner.output.tail_ag, primary_cleaner.output.tail_pb, primary_cleaner.output.tail_sol, primary_cleaner.output.tail_au, primary_cleaner.state.floatbank8_a_air, primary_cleaner.state.floatbank8_a_level, primary_cleaner.state.floatbank8_b_air, primary_cleaner.state.floatbank8_b_level, primary_cleaner.state.floatbank8_c_air, primary_cleaner.state.floatbank8_c_level, primary_cleaner.state.floatbank8_d_air, primary_cleaner.state.floatbank8_d_level, rougher.calculation.sulfate_to_au_concentrate, rougher.calculation.floatbank10_sulfate_to_au_feed, rougher.calculation.floatbank11_sulfate_to_au_feed, rougher.calculation.au_pb_ratio, rougher.input.feed_ag, rougher.input.feed_pb, rougher.input.feed_rate, rougher.input.feed_size, rougher.input.feed_sol, rougher.input.feed_au, rougher.input.floatbank10_sulfate, rougher.input.floatbank10_xanthate, rougher.input.floatbank11_sulfate, rougher.input.floatbank11_xanthate, rougher.output.concentrate_ag, rougher.output.concentrate_pb, rougher.output.concentrate_sol, rougher.output.concentrate_au, rougher.output.recovery, rougher.output.tail_ag, rougher.output.tail_pb, rougher.output.tail_sol, rougher.output.tail_au, rougher.state.floatbank10_a_air, rougher.state.floatbank10_a_level, rougher.state.floatbank10_b_air, rougher.state.floatbank10_b_level, rougher.state.floatbank10_c_air, rougher.state.floatbank10_c_level, rougher.state.floatbank10_d_air, rougher.state.floatbank10_d_level, rougher.state.floatbank10_e_air, rougher.state.floatbank10_e_level, rougher.state.floatbank10_f_air, rougher.state.floatbank10_f_level, secondary_cleaner.output.tail_ag, secondary_cleaner.output.tail_pb, secondary_cleaner.output.tail_sol, secondary_cleaner.output.tail_au, secondary_cleaner.state.floatbank2_a_air, secondary_cleaner.state.floatbank2_a_level, secondary_cleaner.state.floatbank2_b_air, secondary_cleaner.state.floatbank2_b_level, secondary_cleaner.state.floatbank3_a_air, secondary_cleaner.state.floatbank3_a_level, secondary_cleaner.state.floatbank3_b_air, secondary_cleaner.state.floatbank3_b_level, secondary_cleaner.state.floatbank4_a_air, secondary_cleaner.state.floatbank4_a_level, secondary_cleaner.state.floatbank4_b_air, secondary_cleaner.state.floatbank4_b_level, secondary_cleaner.state.floatbank5_a_air, secondary_cleaner.state.floatbank5_a_level, secondary_cleaner.state.floatbank5_b_air, secondary_cleaner.state.floatbank5_b_level, secondary_cleaner.state.floatbank6_a_air, secondary_cleaner.state.floatbank6_a_level]\n",
       "Index: []\n",
       "\n",
       "[0 rows x 87 columns]"
      ]
     },
     "execution_count": 19,
     "metadata": {},
     "output_type": "execute_result"
    }
   ],
   "source": [
    "gold_full_relv[gold_full_relv.duplicated()]\n"
   ]
  },
  {
   "cell_type": "markdown",
   "id": "804d6c51",
   "metadata": {},
   "source": [
    "* There's no duplicates in the data. "
   ]
  },
  {
   "cell_type": "markdown",
   "id": "87a45b5b",
   "metadata": {},
   "source": [
    "### 2. Data analysis:"
   ]
  },
  {
   "cell_type": "markdown",
   "id": "0651683d",
   "metadata": {},
   "source": [
    "We have massive database, the feed stream data influance all the other columns in the data base, lets have a look on the feed stream data distribution:"
   ]
  },
  {
   "cell_type": "code",
   "execution_count": 20,
   "id": "930437a1",
   "metadata": {},
   "outputs": [
    {
     "data": {
      "text/plain": [
       "(22716, 11)"
      ]
     },
     "execution_count": 20,
     "metadata": {},
     "output_type": "execute_result"
    }
   ],
   "source": [
    "feed_data = gold_full_relv[['date',\n",
    "                       'rougher.input.feed_ag',\n",
    "                       'rougher.input.feed_pb', \n",
    "                       'rougher.input.feed_au',\n",
    "                       'rougher.input.feed_rate',\n",
    "                       'rougher.input.feed_size', \n",
    "                       'rougher.input.feed_sol',\n",
    "                       'rougher.input.floatbank10_sulfate', \n",
    "                       'rougher.input.floatbank10_xanthate',\n",
    "                       'rougher.input.floatbank11_sulfate',\n",
    "                       'rougher.input.floatbank11_xanthate']]\n",
    "feed_data.shape"
   ]
  },
  {
   "cell_type": "markdown",
   "id": "26ce806b",
   "metadata": {},
   "source": [
    "#### 2.1. How the concentrations of metals (Au, Ag, Pb) change depending on the purification stage."
   ]
  },
  {
   "cell_type": "code",
   "execution_count": 22,
   "id": "bba5f463",
   "metadata": {},
   "outputs": [],
   "source": [
    "# fig2 = go.Figure()\n",
    "# fig2.add_trace(go.Histogram(x=gold_full_relv['rougher.input.feed_au'], \n",
    "#                             name = 'rougher.input.feed_au'))\n",
    "\n",
    "# fig2.add_trace(go.Histogram(x=gold_full_relv['rougher.output.concentrate_au'], \n",
    "#                             name = 'rougher.output.concentrate_au'))\n",
    "\n",
    "# fig2.add_trace(go.Histogram(x=gold_full_relv['primary_cleaner.output.concentrate_au'], \n",
    "#                             name = 'primary_cleaner.output.concentrate_au'))\n",
    "\n",
    "# fig2.add_trace(go.Histogram(x=gold_full_relv['final.output.concentrate_au'], \n",
    "#                             name = 'final.output.concentrate_au'))\n",
    "\n",
    "\n",
    "# fig2.update_layout(barmode='overlay')\n",
    "\n",
    "\n",
    "# fig2.update_layout(yaxis_title = 'distribution',\n",
    "#                    xaxis_title = 'Au Concentration',\n",
    "#                    title_text=\"Au Concentrate distribution\")\n",
    "\n",
    "# fig2.update_traces(opacity=0.50)\n",
    "# fig2.show()"
   ]
  },
  {
   "attachments": {
    "newplot%20%281%29.png": {
     "image/png": "[encoded data removed]"
    }
   },
   "cell_type": "markdown",
   "id": "621f80b1",
   "metadata": {},
   "source": [
    "![newplot%20%281%29.png](attachment:newplot%20%281%29.png)"
   ]
  },
  {
   "cell_type": "markdown",
   "id": "cd0e1f09",
   "metadata": {},
   "source": [
    "**Figur 2:**\n",
    "There is concentration of 0 throughout the entire process.\n",
    "In every step there are low concentrations that could mislead the model predictions. \n",
    "We can see increase of gold consentration throughout the process.\n",
    "relevent Au concentrations:\n",
    "* rougher-input: 3.3-12.9 \n",
    "* rougher-output: 13.25-26\n",
    "* primary-cleaner-output: 23-42\n",
    "* final-output: 33-50"
   ]
  },
  {
   "cell_type": "code",
   "execution_count": 24,
   "id": "a5f763f4",
   "metadata": {},
   "outputs": [],
   "source": [
    "# fig3 = go.Figure()\n",
    "# fig3.add_trace(go.Histogram(x=gold_full_relv['rougher.input.feed_ag'], \n",
    "#                             name = 'rougher.input.feed_ag'))\n",
    "\n",
    "# fig3.add_trace(go.Histogram(x=gold_full_relv['rougher.output.concentrate_ag'], \n",
    "#                             name = 'rougher.output.concentrate_ag'))\n",
    "\n",
    "# fig3.add_trace(go.Histogram(x=gold_full_relv['primary_cleaner.output.concentrate_ag'], \n",
    "#                             name = 'primary_cleaner.output.concentrate_ag'))\n",
    "\n",
    "# fig3.add_trace(go.Histogram(x=gold_full_relv['final.output.concentrate_ag'], \n",
    "#                             name = 'final.output.concentrate_ag'))\n",
    "\n",
    "# fig3.update_layout(barmode='overlay')\n",
    "\n",
    "\n",
    "# fig3.update_layout(yaxis_title = 'distribution',\n",
    "#                    xaxis_title = 'Ag Concentrate',\n",
    "#                    title_text=\"Ag Concentrate distribution\")\n",
    "\n",
    "# fig3.update_traces(opacity=0.50)\n",
    "# fig3.show()"
   ]
  },
  {
   "attachments": {
    "newplot%20%282%29.png": {
     "image/png": "[encoded data removed]"
    }
   },
   "cell_type": "markdown",
   "id": "d1faa04c",
   "metadata": {},
   "source": [
    "![newplot%20%282%29.png](attachment:newplot%20%282%29.png)"
   ]
  },
  {
   "cell_type": "markdown",
   "id": "90d9c73e",
   "metadata": {},
   "source": [
    "**Figur 3:**\n",
    "There is concentration of 0 throughout the entire process.\n",
    "In every step there are low concentrations that could mislead the model predictions. \n",
    "We can see increas in the Au consentration trough the first and the seconde stage, and decrease through the last 2 stages, we should check thae tail streame to find the remain Au.\n",
    "\n",
    "relevent Ag concentrations:\n",
    "* rougher-input: 4.5-14\n",
    "* rougher-output: 7-17\n",
    "* primary-cleaner-output: 3.7-14\n",
    "* final-output: 3-9"
   ]
  },
  {
   "cell_type": "code",
   "execution_count": 26,
   "id": "a73367d4",
   "metadata": {},
   "outputs": [],
   "source": [
    "# fig4 = go.Figure()\n",
    "# fig4.add_trace(go.Histogram(x=gold_full_relv['rougher.input.feed_pb'], \n",
    "#                             name = 'rougher.input.feed_pb'))\n",
    "\n",
    "# fig4.add_trace(go.Histogram(x=gold_full_relv['rougher.output.concentrate_pb'], \n",
    "#                             name = 'rougher.output.concentrate_pb'))\n",
    "\n",
    "# fig4.add_trace(go.Histogram(x=gold_full_relv['primary_cleaner.output.concentrate_pb'], \n",
    "#                             name = 'primary_cleaner.output.concentrate_pb'))\n",
    "\n",
    "# fig4.add_trace(go.Histogram(x=gold_full_relv['final.output.concentrate_pb'], \n",
    "#                             name = 'final.output.concentrate_pb'))\n",
    "\n",
    "\n",
    "# fig4.update_layout(barmode='overlay')\n",
    "\n",
    "\n",
    "# fig4.update_layout(yaxis_title = 'distribution',\n",
    "#                    xaxis_title = 'Pb Concentrate',\n",
    "#                    title_text=\"Pb Concentrate distribution\")\n",
    "\n",
    "# fig4.update_traces(opacity=0.50)\n",
    "# fig4.show()"
   ]
  },
  {
   "attachments": {
    "newplot%20%283%29.png": {
     "image/png": "[encoded data removed]"
    }
   },
   "cell_type": "markdown",
   "id": "018f19e2",
   "metadata": {},
   "source": [
    "![newplot%20%283%29.png](attachment:newplot%20%283%29.png)"
   ]
  },
  {
   "cell_type": "markdown",
   "id": "319c2565",
   "metadata": {},
   "source": [
    "**Figur 4:**\n",
    "There is concentration of 0 throughout the entire process.\n",
    "In every step there are low concentrations that could mislead the model predictions. \n",
    "The Pb concentration going up in the first and the seconde stages and stabilized around 10 in the last two stages.  \n",
    "relevent Pb concentrations:\n",
    "* rougher-input: 1- 6.5\n",
    "* rougher-output: 4-12\n",
    "* primary-cleaner-output: 4-15\n",
    "* final-output: 5.5-13"
   ]
  },
  {
   "cell_type": "markdown",
   "id": "61879944",
   "metadata": {},
   "source": [
    "#### 2.2. Comparison between the feed particle size distributions in the training set and in the test set.\n",
    "If the distributions vary significantly, the model evaluation will be incorrect."
   ]
  },
  {
   "cell_type": "code",
   "execution_count": 28,
   "id": "aedbc6a7",
   "metadata": {},
   "outputs": [],
   "source": [
    "# fig5 = go.Figure()\n",
    "# fig5.add_trace(go.Histogram(x=gold_train_relv['rougher.input.feed_size'], name = 'rougher_input_gold_train', histnorm='density'))\n",
    "# fig5.add_trace(go.Histogram(x=gold_test['rougher.input.feed_size'], name = 'rougher_input_gold_test', histnorm='density'))\n",
    "\n",
    "\n",
    "# fig5.update_layout(barmode='overlay')\n",
    "\n",
    "# fig5.update_layout(yaxis_title = 'distribution',\n",
    "#                    xaxis_title = 'particle size',\n",
    "#                    title_text=\"train & test particle size distribution on rougher.input\")\n",
    "\n",
    "# fig5.update_traces(opacity=0.50)\n",
    "# fig5.show()\n",
    "\n",
    "# fig6 = go.Figure()\n",
    "# fig6.add_trace(go.Histogram(x=gold_train_relv['primary_cleaner.input.feed_size'], name = 'primary_cleaner_input_gold_train', histnorm='density'))\n",
    "# fig6.add_trace(go.Histogram(x=gold_test['primary_cleaner.input.feed_size'], name = 'primary_cleaner_input_gold_test', histnorm='density'))\n",
    "\n",
    "\n",
    "# fig6.update_layout(barmode='overlay')\n",
    "\n",
    "# fig6.update_layout(yaxis_title = 'distribution',\n",
    "#                    xaxis_title = 'particle size',\n",
    "#                    title_text=\"train & test particle size distribution primary_cleaner_input\")\n",
    "\n",
    "# fig6.update_traces(opacity=0.50)\n",
    "# fig6.show()"
   ]
  },
  {
   "attachments": {
    "newplot%20%284%29.png": {
     "image/png": "[encoded data removed]"
    }
   },
   "cell_type": "markdown",
   "id": "0eb58bd7",
   "metadata": {},
   "source": [
    "![newplot%20%284%29.png](attachment:newplot%20%284%29.png)"
   ]
  },
  {
   "cell_type": "markdown",
   "id": "ddb9946b",
   "metadata": {},
   "source": [
    "**Figur 5:**\n",
    "The partical size for the rougher.input, in the test set, and in the train set have similar distribution. \n",
    "The partical size is between 24-100 for both train and test set. \n",
    "\n"
   ]
  },
  {
   "attachments": {
    "newplot%20%285%29.png": {
     "image/png": "[encoded data removed]"
    }
   },
   "cell_type": "markdown",
   "id": "f8d523c6",
   "metadata": {},
   "source": [
    "![newplot%20%285%29.png](attachment:newplot%20%285%29.png)"
   ]
  },
  {
   "cell_type": "markdown",
   "id": "d350961c",
   "metadata": {},
   "source": [
    "**Figur 6:**\n",
    "The partical size for the primary_cleaner.input, in the test set, and in the train set have similar distribution. \n",
    "The partical size is between 6-9 for both train and test set. "
   ]
  },
  {
   "cell_type": "markdown",
   "id": "08c0eb6e",
   "metadata": {},
   "source": [
    "#### 2.3. Comparison between the total concentrations of all substances at different stages raw feed, rougher concentrate, and final concentrate. \n"
   ]
  },
  {
   "cell_type": "markdown",
   "id": "2fc15ccd",
   "metadata": {},
   "source": [
    "<img src=\"reco.jpg\" >"
   ]
  },
  {
   "cell_type": "markdown",
   "id": "092945a2",
   "metadata": {},
   "source": [
    "* By looking at the  recovery equation we can see that when F > 0 or C != T or the equation is not define. \n",
    "* C and T streams are part of the target that needs to be predicted.\n",
    "    * F the feed stream \n",
    "    * C the concentrate stream \n",
    "    * T the tail stream\n",
    "* By lookin at figures 2,3,4 that conclusion is being established.\n",
    "* There are some abnormal values in the rougher.input test set, and in the primary_cleaner train set.\n",
    "* Im assuming that once we remove the problematic observation from the rougher.input, the source of the problem would disappear:\n",
    "    * relevent Au concentrations for rougher-input: 3.3 - 12.9 \n",
    "    * relevent Ag concentrations for rougher-input: 4.5-14\n",
    "    * relevent Pb concentrations for rougher-input: 1- 6.5"
   ]
  },
  {
   "cell_type": "code",
   "execution_count": 29,
   "id": "09a62a9b",
   "metadata": {},
   "outputs": [
    {
     "name": "stdout",
     "output_type": "stream",
     "text": [
      "rougher.input.feed_au 10 quantile:  1.3443909431294503\n",
      "rougher.input.feed_au 90 quantile:  10.708693756206651\n",
      "rougher.input.feed_ag 10 quantile:  3.3148185295383032\n",
      "rougher.input.feed_ag 90 quantile:  11.405949740265404\n",
      "rougher.input.feed_pb 10 quantile:  0.48544452192414467\n",
      "rougher.input.feed_pb 90 quantile:  5.0314761013189955\n",
      "rougher.input.feed_size 10 quantile:  34.15464652510703\n",
      "rougher.input.feed_size 90 quantile:  87.7530998373283\n"
     ]
    }
   ],
   "source": [
    "# finding the 0.9 quantile and the 0.1 quantile for outliers indication:\n",
    "roug_input_au_bottom = gold_train_relv['rougher.input.feed_au'].quantile(0.10)\n",
    "roug_input_au_top = gold_train_relv['rougher.input.feed_au'].quantile(0.90)\n",
    "\n",
    "print('rougher.input.feed_au 10 quantile: ', roug_input_au_bottom)\n",
    "print('rougher.input.feed_au 90 quantile: ', roug_input_au_top)\n",
    "\n",
    "roug_input_ag_bottom = gold_train_relv['rougher.input.feed_ag'].quantile(0.10)\n",
    "roug_input_ag_top = gold_train_relv['rougher.input.feed_ag'].quantile(0.90)\n",
    "\n",
    "print('rougher.input.feed_ag 10 quantile: ', roug_input_ag_bottom)\n",
    "print('rougher.input.feed_ag 90 quantile: ', roug_input_ag_top)\n",
    "\n",
    "roug_input_pb_bottom = gold_train_relv['rougher.input.feed_pb'].quantile(0.10)\n",
    "roug_input_pb_top = gold_train_relv['rougher.input.feed_pb'].quantile(0.90)\n",
    "\n",
    "print('rougher.input.feed_pb 10 quantile: ', roug_input_pb_bottom)\n",
    "print('rougher.input.feed_pb 90 quantile: ', roug_input_pb_top)\n",
    "\n",
    "roug_input_size_bottom = gold_train_relv['rougher.input.feed_size'].quantile(0.05)\n",
    "roug_input_size_top = gold_train_relv['rougher.input.feed_size'].quantile(0.95)\n",
    "\n",
    "print('rougher.input.feed_size 10 quantile: ', roug_input_size_bottom)\n",
    "print('rougher.input.feed_size 90 quantile: ', roug_input_size_top)"
   ]
  },
  {
   "cell_type": "code",
   "execution_count": 30,
   "id": "e896ba27",
   "metadata": {},
   "outputs": [
    {
     "data": {
      "text/plain": [
       "(11159, 87)"
      ]
     },
     "execution_count": 30,
     "metadata": {},
     "output_type": "execute_result"
    }
   ],
   "source": [
    "# removing the outliers in the train set: \n",
    "con1 = gold_train_relv.loc[gold_train_relv['rougher.input.feed_au'] > roug_input_au_bottom]['date']\n",
    "con2 = gold_train_relv.loc[gold_train_relv['rougher.input.feed_au'] < roug_input_au_top]['date']\n",
    "\n",
    "con3 = gold_train_relv.loc[gold_train_relv['rougher.input.feed_ag'] > roug_input_ag_bottom]['date']\n",
    "con4 = gold_train.loc[gold_train_relv['rougher.input.feed_ag'] < roug_input_ag_top]['date']\n",
    "\n",
    "con5 = gold_train_relv.loc[gold_train_relv['rougher.input.feed_pb'] > roug_input_pb_bottom]['date']\n",
    "con6 = gold_train_relv.loc[gold_train_relv['rougher.input.feed_pb'] < roug_input_pb_top]['date']\n",
    "\n",
    "con7 = gold_train_relv.loc[gold_train_relv['rougher.output.tail_au'] < gold_train['rougher.output.concentrate_au']]['date']\n",
    "con8 = gold_train_relv.loc[gold_train_relv['final.output.tail_au'] < gold_train['final.output.concentrate_au']]['date']\n",
    "\n",
    "con9 = gold_train_relv.loc[gold_train_relv['rougher.input.feed_size'] > roug_input_size_bottom]['date']\n",
    "con10 = gold_train_relv.loc[gold_train_relv['rougher.input.feed_size'] < roug_input_size_top]['date']\n",
    "\n",
    "gold_train_relv = gold_train_relv.query('date in @con1 & date in @con2 & date in @con3 & date in @con4 & date in @con5 & date in @con6 & date in @con7 & date in @con8 & date in @con9 & date in @con10')\n",
    "gold_train_relv.shape"
   ]
  },
  {
   "cell_type": "code",
   "execution_count": 31,
   "id": "9df42073",
   "metadata": {},
   "outputs": [
    {
     "data": {
      "text/plain": [
       "(3923, 53)"
      ]
     },
     "execution_count": 31,
     "metadata": {},
     "output_type": "execute_result"
    }
   ],
   "source": [
    "# removing the outliers in the test set: \n",
    "con_1 = gold_test.loc[gold_test['rougher.input.feed_au'] > roug_input_au_bottom]['date']\n",
    "con_2 = gold_test.loc[gold_test['rougher.input.feed_au'] < roug_input_au_top]['date']\n",
    "\n",
    "con_3 = gold_test.loc[gold_test['rougher.input.feed_ag'] > roug_input_ag_bottom]['date']\n",
    "con_4 = gold_test.loc[gold_test['rougher.input.feed_ag'] < roug_input_ag_top]['date']\n",
    "\n",
    "con_5 = gold_test.loc[gold_test['rougher.input.feed_pb'] > roug_input_pb_bottom]['date']\n",
    "con_6 = gold_test.loc[gold_test['rougher.input.feed_pb'] < roug_input_pb_top]['date']\n",
    "\n",
    "con_7 = gold_test.loc[gold_test['rougher.input.feed_size'] >roug_input_size_bottom]['date']\n",
    "con_8 = gold_test.loc[gold_test['rougher.input.feed_size'] < roug_input_size_top]['date']\n",
    "\n",
    "gold_test_relv = gold_test.query('date in @con_1 & date in @con_2 & date in @con_3 & date in @con_4 & date in @con_5 & date in @con_6 & date in @con_7 & date in @con_8')\n",
    "gold_test_relv.shape"
   ]
  },
  {
   "cell_type": "code",
   "execution_count": 32,
   "id": "fb1bb1a1",
   "metadata": {},
   "outputs": [
    {
     "data": {
      "text/html": [
       "<div>\n",
       "<style scoped>\n",
       "    .dataframe tbody tr th:only-of-type {\n",
       "        vertical-align: middle;\n",
       "    }\n",
       "\n",
       "    .dataframe tbody tr th {\n",
       "        vertical-align: top;\n",
       "    }\n",
       "\n",
       "    .dataframe thead th {\n",
       "        text-align: right;\n",
       "    }\n",
       "</style>\n",
       "<table border=\"1\" class=\"dataframe\">\n",
       "  <thead>\n",
       "    <tr style=\"text-align: right;\">\n",
       "      <th></th>\n",
       "      <th>stage</th>\n",
       "      <th>Ag</th>\n",
       "      <th>Pb</th>\n",
       "      <th>Au</th>\n",
       "    </tr>\n",
       "  </thead>\n",
       "  <tbody>\n",
       "    <tr>\n",
       "      <th>0</th>\n",
       "      <td>feed</td>\n",
       "      <td>182732.898021</td>\n",
       "      <td>74575.380942</td>\n",
       "      <td>171411.780412</td>\n",
       "    </tr>\n",
       "    <tr>\n",
       "      <th>1</th>\n",
       "      <td>middle</td>\n",
       "      <td>246368.863860</td>\n",
       "      <td>156442.126750</td>\n",
       "      <td>405060.555729</td>\n",
       "    </tr>\n",
       "    <tr>\n",
       "      <th>2</th>\n",
       "      <td>final</td>\n",
       "      <td>108310.180492</td>\n",
       "      <td>206065.154798</td>\n",
       "      <td>906180.262071</td>\n",
       "    </tr>\n",
       "  </tbody>\n",
       "</table>\n",
       "</div>"
      ],
      "text/plain": [
       "    stage             Ag             Pb             Au\n",
       "0    feed  182732.898021   74575.380942  171411.780412\n",
       "1  middle  246368.863860  156442.126750  405060.555729\n",
       "2   final  108310.180492  206065.154798  906180.262071"
      ]
     },
     "execution_count": 32,
     "metadata": {},
     "output_type": "execute_result"
    }
   ],
   "source": [
    "full_ag_feed_sum = gold_full_relv['rougher.input.feed_ag'].sum()\n",
    "full_ag_middle_sum = gold_full_relv['rougher.output.concentrate_ag'].sum()\n",
    "full_ag_final_sum = gold_full_relv['final.output.concentrate_ag'].sum()\n",
    "\n",
    "full_pb_feed_sum = gold_full_relv['rougher.input.feed_pb'].sum()\n",
    "full_pb_middle_sum = gold_full_relv['rougher.output.concentrate_pb'].sum()\n",
    "full_pb_final_sum = gold_full_relv['final.output.concentrate_pb'].sum()\n",
    "\n",
    "full_au_middle_sum = gold_full_relv['rougher.output.concentrate_au'].sum()\n",
    "full_au_feed_sum = gold_full_relv['rougher.input.feed_au'].sum()\n",
    "full_au_final_sum = gold_full_relv['final.output.concentrate_au'].sum()\n",
    "\n",
    "sum_metel_stage = [['feed', full_ag_feed_sum, full_pb_feed_sum, full_au_feed_sum], \n",
    "                   ['middle', full_ag_middle_sum, full_pb_middle_sum, full_au_middle_sum], \n",
    "                   ['final',full_ag_final_sum , full_pb_final_sum, full_au_final_sum]]\n",
    "sum_metel_stage = pd.DataFrame(sum_metel_stage, columns = ['stage', 'Ag', 'Pb', 'Au'])\n",
    "sum_metel_stage"
   ]
  },
  {
   "cell_type": "code",
   "execution_count": 34,
   "id": "4bf0c05c",
   "metadata": {},
   "outputs": [],
   "source": [
    "# fig7 = px.line(sum_metel_stage, x='stage', y=['Ag', 'Pb', 'Au'], markers=True)\n",
    "# fig7.update_layout(title='Sum of metal concentration in each stage',\n",
    "#                    xaxis_title='stage',\n",
    "#                    yaxis_title='sum of concentration')\n",
    "# fig7.show()"
   ]
  },
  {
   "attachments": {
    "newplot%20%286%29.png": {
     "image/png": "[encoded data removed]"
    }
   },
   "cell_type": "markdown",
   "id": "92d86364",
   "metadata": {},
   "source": [
    "![newplot%20%286%29.png](attachment:newplot%20%286%29.png)"
   ]
  },
  {
   "cell_type": "markdown",
   "id": "2ae50568",
   "metadata": {},
   "source": [
    "**figur7:**\n",
    "* The Au concentartion increas by the different stages- its The desired outcome.\n",
    "* The Pb concentartion increas by the different stages, in lower magnitude, but its not the metal we are trying to extricate, its not seems like a problam. \n",
    "* The Ag concentartion increas by the first stage and decreas even lower by the final stage. its not the metal we are trying to extricate, its probably in the tail sreame. "
   ]
  },
  {
   "cell_type": "markdown",
   "id": "f82b6db6",
   "metadata": {},
   "source": [
    "### 3. Develop and train a model: "
   ]
  },
  {
   "cell_type": "markdown",
   "id": "30b1c0d4",
   "metadata": {},
   "source": [
    "**Train model for the rougher stage:**"
   ]
  },
  {
   "cell_type": "markdown",
   "id": "dc7bf0f4",
   "metadata": {},
   "source": [
    "* Im using the gold_test columns as features, so there wont be Target leakage, and features without outliears."
   ]
  },
  {
   "cell_type": "code",
   "execution_count": 35,
   "id": "0eb92df6",
   "metadata": {},
   "outputs": [
    {
     "name": "stdout",
     "output_type": "stream",
     "text": [
      "x_train (11159, 52)\n",
      "x_test (3923, 52)\n"
     ]
    }
   ],
   "source": [
    "x_train = gold_train_relv[gold_test_relv.columns].drop(['date'], axis=1).to_numpy()\n",
    "x_test = gold_test_relv.drop(['date'], axis=1).to_numpy()\n",
    "print('x_train', x_train.shape)\n",
    "print('x_test', x_test.shape)"
   ]
  },
  {
   "cell_type": "markdown",
   "id": "cb5bd93d",
   "metadata": {},
   "source": [
    "* The target(y) contain two columns one for each stage:"
   ]
  },
  {
   "cell_type": "code",
   "execution_count": 36,
   "id": "78517923",
   "metadata": {},
   "outputs": [],
   "source": [
    "train_date = gold_train_relv['date']\n",
    "y_train = gold_full_relv.query('date in @train_date')[['rougher.output.recovery', 'final.output.recovery']]\n",
    "y_train = y_train.to_numpy()\n"
   ]
  },
  {
   "cell_type": "code",
   "execution_count": 37,
   "id": "01d3d8cb",
   "metadata": {},
   "outputs": [],
   "source": [
    "test_date = gold_test_relv['date']\n",
    "y_test = gold_full_relv.query('date in @test_date')[['rougher.output.recovery', 'final.output.recovery']]\n",
    "y_test = y_test.to_numpy()"
   ]
  },
  {
   "cell_type": "code",
   "execution_count": 38,
   "id": "d1251c6d",
   "metadata": {},
   "outputs": [],
   "source": [
    "scaler = StandardScaler()\n",
    "scaler.fit(x_train) \n",
    "x_train = scaler.transform(x_train)\n",
    "x_test = scaler.transform(x_test)"
   ]
  },
  {
   "cell_type": "markdown",
   "id": "19467024",
   "metadata": {},
   "source": [
    "#### 3.1. Calculation of  final  the sMAPE value."
   ]
  },
  {
   "cell_type": "markdown",
   "id": "254b4da5",
   "metadata": {},
   "source": [
    "* calc_smape gets the 2D arreys for prediction and targets, the first column for rogher stage, and seconde column for the final stage. the function calculate and return final sMAPE value wich is the the sum of:\n",
    "* 0.25 x sMAPe(rogher_stage) + 0.75 x (sMAPe(final_stage)"
   ]
  },
  {
   "cell_type": "code",
   "execution_count": 39,
   "id": "6e7b0156",
   "metadata": {},
   "outputs": [],
   "source": [
    "def calc_smape (pred, target):\n",
    "    sum_r = 0\n",
    "    sum_f = 0\n",
    "    length = len(pred)\n",
    "    for i in range(length):\n",
    "        num_r = abs(pred[i,0]- target[i,0])\n",
    "        num_f = abs(pred[i,1]- target[i,1])\n",
    "        \n",
    "        den_r = 0.5*(abs(pred[i,0])+abs(target[i,0]))\n",
    "        den_f = 0.5*(abs(pred[i,1])+abs(target[i,1]))\n",
    "        \n",
    "        sum_r += num_r/den_r\n",
    "        sum_f +=num_f/den_f\n",
    "        \n",
    "    smape = 100*((0.25*sum_r/length) + (0.75*sum_r/length))\n",
    "    return smape"
   ]
  },
  {
   "cell_type": "code",
   "execution_count": 40,
   "id": "2d87d537",
   "metadata": {},
   "outputs": [
    {
     "data": {
      "text/plain": [
       "array([ 8.41477017, 10.81725863,  7.17038098,  5.41195509,  9.5003885 ])"
      ]
     },
     "execution_count": 40,
     "metadata": {},
     "output_type": "execute_result"
    }
   ],
   "source": [
    "smape_score = make_scorer(calc_smape) \n",
    "\n",
    "scores_lr = cross_val_score(LinearRegression(), x_train, y_train, cv=5, scoring=smape_score)\n",
    "scores_lr"
   ]
  },
  {
   "cell_type": "code",
   "execution_count": 41,
   "id": "49ea75db",
   "metadata": {},
   "outputs": [
    {
     "data": {
      "text/plain": [
       "8.262950675137256"
      ]
     },
     "execution_count": 41,
     "metadata": {},
     "output_type": "execute_result"
    }
   ],
   "source": [
    "scores_lr.mean()"
   ]
  },
  {
   "cell_type": "markdown",
   "id": "64e8f258",
   "metadata": {},
   "source": [
    "* After removing all the outliers, and train the LinearRegression model, to predict the recovery fot rougher stage(25%) and for the final stage(75%), we got sMAPE (symmetric mean absolute percentage error) of 8.2, with 5 fold.   "
   ]
  },
  {
   "cell_type": "markdown",
   "id": "cd14b785",
   "metadata": {},
   "source": [
    "**Check the sMAPE score for DummyRegressor with mean strategy:**"
   ]
  },
  {
   "cell_type": "code",
   "execution_count": 42,
   "id": "de38c2f1",
   "metadata": {},
   "outputs": [
    {
     "data": {
      "text/plain": [
       "array([9.07603011, 9.23656206, 4.58798589, 7.49108679, 9.45208152])"
      ]
     },
     "execution_count": 42,
     "metadata": {},
     "output_type": "execute_result"
    }
   ],
   "source": [
    "scores_Dummy = cross_val_score(DummyRegressor(strategy=\"mean\"), x_train, y_train, cv=5, scoring=smape_score)\n",
    "scores_Dummy"
   ]
  },
  {
   "cell_type": "code",
   "execution_count": 43,
   "id": "7bc04190",
   "metadata": {},
   "outputs": [
    {
     "data": {
      "text/plain": [
       "7.968749274603115"
      ]
     },
     "execution_count": 43,
     "metadata": {},
     "output_type": "execute_result"
    }
   ],
   "source": [
    "scores_Dummy.mean()"
   ]
  },
  {
   "cell_type": "markdown",
   "id": "20b24e59",
   "metadata": {},
   "source": [
    "* The sMAPE score for the DummyRegressor with mean strategy is 7.96 which is lower then the LinearRegression model result. "
   ]
  },
  {
   "cell_type": "markdown",
   "id": "47fe2a3e",
   "metadata": {},
   "source": [
    "#### 3.2. Train, evaluation, finding , and testing to find the best model\n"
   ]
  },
  {
   "cell_type": "code",
   "execution_count": 44,
   "id": "50fcbaba",
   "metadata": {},
   "outputs": [
    {
     "name": "stdout",
     "output_type": "stream",
     "text": [
      "for n_estimators = 10\n",
      "sMAPE= [8.59456317 9.92975237 5.98408327 7.14112441 7.91400189]\n",
      "mean score 7.912705022885166\n",
      "\n",
      "for n_estimators = 15\n",
      "sMAPE= [9.6615137  9.25394711 5.46126854 8.15212708 8.10407206]\n",
      "mean score 8.126585699550239\n",
      "\n",
      "for n_estimators = 18\n",
      "sMAPE= [8.64635528 8.18858437 5.05977759 7.10248517 8.21824988]\n",
      "mean score 7.4430904586209365\n",
      "\n",
      "for n_estimators = 20\n",
      "sMAPE= [8.78346372 8.97984612 4.79525339 8.7304648  7.78284689]\n",
      "mean score 7.814374984001364\n",
      "\n",
      "for n_estimators = 25\n",
      "sMAPE= [8.39001928 9.98410013 5.11487448 8.60807787 7.16994437]\n",
      "mean score 7.853403225659368\n",
      "\n"
     ]
    }
   ],
   "source": [
    "# train RandomForestRegressor and change the n_estimators hyper parameter:\n",
    "estimatores = [10, 15, 18, 20, 25]\n",
    "for n in estimatores:\n",
    "    scores_rf = cross_val_score(RandomForestRegressor(n_estimators = n), x_train, y_train, cv=5, scoring=smape_score)\n",
    "\n",
    "\n",
    "    print('for n_estimators =', n)\n",
    "    print('sMAPE=', scores_rf)\n",
    "    print('mean score', scores_rf.mean())\n",
    "    print()"
   ]
  },
  {
   "cell_type": "markdown",
   "id": "b3138c87",
   "metadata": {},
   "source": [
    "* By changing n_estimators hyper parameter, we got the best sMAPE for 10 estimators(7.91), it the lowest score we got so far."
   ]
  },
  {
   "cell_type": "markdown",
   "id": "3bdb2be7",
   "metadata": {},
   "source": [
    "**We got the lowest sMAPE score for random forest with 10 estimators, lets see what is the test set sMAPE:**"
   ]
  },
  {
   "cell_type": "markdown",
   "id": "9569dd33",
   "metadata": {},
   "source": [
    "* get_pred gets the desired model and train it for X_train, y_train and return the prediction for X_test:"
   ]
  },
  {
   "cell_type": "code",
   "execution_count": 46,
   "id": "590f3694",
   "metadata": {},
   "outputs": [],
   "source": [
    "def get_pred(model, X_train, X_test, y_train):\n",
    "    model.fit(X_train, y_train)\n",
    "    predictions = model.predict(X_test)\n",
    "    return predictions"
   ]
  },
  {
   "cell_type": "code",
   "execution_count": 50,
   "id": "2a5cf50c",
   "metadata": {
    "scrolled": false
   },
   "outputs": [
    {
     "data": {
      "text/plain": [
       "9.730081400070645"
      ]
     },
     "execution_count": 50,
     "metadata": {},
     "output_type": "execute_result"
    }
   ],
   "source": [
    "pred_test_rf = get_pred(RandomForestRegressor(n_estimators = 10), x_train, x_test, y_train)\n",
    "smape_rf = calc_smape (pred_test_rf, y_test)\n",
    "smape_rf"
   ]
  },
  {
   "cell_type": "code",
   "execution_count": 69,
   "id": "0845a72b",
   "metadata": {},
   "outputs": [
    {
     "data": {
      "text/plain": [
       "9.81259898925038"
      ]
     },
     "execution_count": 69,
     "metadata": {},
     "output_type": "execute_result"
    }
   ],
   "source": [
    "pred_test_dummy = get_pred(DummyRegressor(strategy=\"mean\"), x_train, x_test, y_train)\n",
    "smape_dummy = calc_smape (pred_test_dummy, y_test)\n",
    "smape_dummy"
   ]
  },
  {
   "cell_type": "markdown",
   "id": "4faf1988",
   "metadata": {},
   "source": [
    "* RandomForestRegressor with 10 estimators had the loest sMAPE(7.9)\n",
    "* For the test set, RandomForestRegressor with 25 estimators, yield sMAPE score of 9.7 \n",
    "* DummyRegressor with \"mean\" strategy yield higher sMAPE score of 9.8 \n",
    "* To conclude we manage to train a model that predict the amount of gold recovered from gold ore with loss function value of 9.7. "
   ]
  },
  {
   "cell_type": "code",
   "execution_count": null,
   "id": "0fad3aea",
   "metadata": {},
   "outputs": [],
   "source": []
  }
 ],
 "metadata": {
  "ExecuteTimeLog": [
   {
    "duration": 2364,
    "start_time": "2022-06-30T14:41:43.053Z"
   },
   {
    "duration": 0,
    "start_time": "2022-06-30T14:41:45.419Z"
   },
   {
    "duration": 0,
    "start_time": "2022-06-30T14:41:45.423Z"
   },
   {
    "duration": 0,
    "start_time": "2022-06-30T14:41:45.424Z"
   },
   {
    "duration": 0,
    "start_time": "2022-06-30T14:41:45.425Z"
   },
   {
    "duration": 0,
    "start_time": "2022-06-30T14:41:45.426Z"
   },
   {
    "duration": 0,
    "start_time": "2022-06-30T14:41:45.427Z"
   },
   {
    "duration": 12,
    "start_time": "2022-06-30T14:41:45.637Z"
   },
   {
    "duration": 4,
    "start_time": "2022-06-30T14:41:59.602Z"
   },
   {
    "duration": 1608,
    "start_time": "2022-06-30T14:42:01.626Z"
   },
   {
    "duration": 34,
    "start_time": "2022-06-30T14:42:03.235Z"
   },
   {
    "duration": 18,
    "start_time": "2022-06-30T14:42:03.270Z"
   },
   {
    "duration": 32,
    "start_time": "2022-06-30T14:42:03.291Z"
   },
   {
    "duration": 17,
    "start_time": "2022-06-30T14:42:03.325Z"
   },
   {
    "duration": 22,
    "start_time": "2022-06-30T14:42:03.400Z"
   },
   {
    "duration": 18,
    "start_time": "2022-06-30T14:42:04.384Z"
   },
   {
    "duration": 3,
    "start_time": "2022-06-30T14:42:21.844Z"
   },
   {
    "duration": 18,
    "start_time": "2022-06-30T14:42:22.047Z"
   },
   {
    "duration": 7,
    "start_time": "2022-06-30T14:42:22.237Z"
   },
   {
    "duration": 7,
    "start_time": "2022-06-30T14:42:23.440Z"
   },
   {
    "duration": 14,
    "start_time": "2022-06-30T14:42:24.850Z"
   },
   {
    "duration": 866,
    "start_time": "2022-06-30T14:42:25.393Z"
   },
   {
    "duration": 120,
    "start_time": "2022-06-30T14:42:26.262Z"
   },
   {
    "duration": 151,
    "start_time": "2022-06-30T14:42:26.384Z"
   },
   {
    "duration": 7,
    "start_time": "2022-06-30T14:42:26.983Z"
   },
   {
    "duration": 338,
    "start_time": "2022-06-30T14:42:29.075Z"
   },
   {
    "duration": 347,
    "start_time": "2022-06-30T14:42:29.921Z"
   },
   {
    "duration": 314,
    "start_time": "2022-06-30T14:42:30.647Z"
   },
   {
    "duration": 193,
    "start_time": "2022-06-30T14:42:33.538Z"
   },
   {
    "duration": 19,
    "start_time": "2022-06-30T14:42:39.699Z"
   },
   {
    "duration": 73,
    "start_time": "2022-06-30T14:42:41.011Z"
   },
   {
    "duration": 37,
    "start_time": "2022-06-30T14:42:41.282Z"
   },
   {
    "duration": 10,
    "start_time": "2022-06-30T14:42:44.567Z"
   },
   {
    "duration": 18,
    "start_time": "2022-06-30T14:42:45.410Z"
   },
   {
    "duration": 14,
    "start_time": "2022-06-30T14:42:46.389Z"
   }
  ],
  "kernelspec": {
   "display_name": "Python 3 (ipykernel)",
   "language": "python",
   "name": "python3"
  },
  "language_info": {
   "codemirror_mode": {
    "name": "ipython",
    "version": 3
   },
   "file_extension": ".py",
   "mimetype": "text/x-python",
   "name": "python",
   "nbconvert_exporter": "python",
   "pygments_lexer": "ipython3",
   "version": "3.9.7"
  },
  "toc": {
   "base_numbering": 1,
   "nav_menu": {},
   "number_sections": true,
   "sideBar": true,
   "skip_h1_title": true,
   "title_cell": "Table of Contents",
   "title_sidebar": "Contents",
   "toc_cell": false,
   "toc_position": {},
   "toc_section_display": true,
   "toc_window_display": false
  }
 },
 "nbformat": 4,
 "nbformat_minor": 5
}
